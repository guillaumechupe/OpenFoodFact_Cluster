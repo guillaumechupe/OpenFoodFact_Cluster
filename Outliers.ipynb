{
 "cells": [
  {
   "cell_type": "code",
   "execution_count": 1,
   "id": "428b9c95",
   "metadata": {},
   "outputs": [],
   "source": [
    "import pandas as pd\n",
    "import numpy as np\n",
    "import seaborn as sns"
   ]
  },
  {
   "cell_type": "code",
   "execution_count": 2,
   "id": "8f4ade0a",
   "metadata": {},
   "outputs": [
    {
     "name": "stdout",
     "output_type": "stream",
     "text": [
      "CPU times: total: 2min 6s\n",
      "Wall time: 3min 3s\n"
     ]
    }
   ],
   "source": [
    "%%time\n",
    "df_withoutduplicatefeatures4 = pd.read_csv(\"df_withoutduplicatefeatures4.csv\",\n",
    "              sep=\"\\t\", encoding=\"utf-8\", low_memory=False)"
   ]
  },
  {
   "cell_type": "code",
   "execution_count": 22,
   "id": "15647140",
   "metadata": {},
   "outputs": [],
   "source": [
    "df = df_withoutduplicatefeatures4"
   ]
  },
  {
   "cell_type": "code",
   "execution_count": 23,
   "id": "949ca40d",
   "metadata": {},
   "outputs": [],
   "source": [
    "col_names=[]\n",
    "for x in df.columns:\n",
    "    col_names.append(x)"
   ]
  },
  {
   "cell_type": "code",
   "execution_count": 24,
   "id": "aaa5df90",
   "metadata": {},
   "outputs": [
    {
     "name": "stdout",
     "output_type": "stream",
     "text": [
      "code  :  object\n",
      "url  :  object\n",
      "product_name  :  object\n",
      "abbreviated_product_name  :  object\n",
      "generic_name  :  object\n",
      "quantity  :  object\n",
      "packaging_en  :  object\n",
      "packaging_text  :  object\n",
      "brands  :  object\n",
      "categories_en  :  object\n",
      "origins_en  :  object\n",
      "manufacturing_places  :  object\n",
      "labels_en  :  object\n",
      "emb_codes  :  object\n",
      "first_packaging_code_geo  :  object\n",
      "cities_tags  :  object\n",
      "purchase_places  :  object\n",
      "stores  :  object\n",
      "countries_en  :  object\n",
      "ingredients_text  :  object\n",
      "ingredients_analysis_tags  :  object\n",
      "allergens  :  object\n",
      "traces_en  :  object\n",
      "serving_size  :  object\n",
      "serving_quantity  :  float64\n",
      "no_nutrition_data  :  object\n",
      "additives_n  :  float64\n",
      "additives_en  :  object\n",
      "nutriscore_score  :  float64\n",
      "nutriscore_grade  :  object\n",
      "nova_group  :  float64\n",
      "pnns_groups_1  :  object\n",
      "pnns_groups_2  :  object\n",
      "food_groups_en  :  object\n",
      "states_en  :  object\n",
      "brand_owner  :  object\n",
      "ecoscore_score  :  float64\n",
      "ecoscore_grade  :  object\n",
      "nutrient_levels_tags  :  object\n",
      "product_quantity  :  float64\n",
      "owner  :  object\n",
      "data_quality_errors_tags  :  object\n",
      "unique_scans_n  :  float64\n",
      "popularity_tags  :  object\n",
      "completeness  :  float64\n",
      "main_category_en  :  object\n",
      "image_small_url  :  object\n",
      "image_ingredients_small_url  :  object\n",
      "image_nutrition_small_url  :  object\n",
      "energy-kj_100g  :  float64\n",
      "energy-kcal_100g  :  float64\n",
      "energy_100g  :  float64\n",
      "energy-from-fat_100g  :  float64\n",
      "fat_100g  :  float64\n",
      "saturated-fat_100g  :  float64\n",
      "butyric-acid_100g  :  float64\n",
      "caproic-acid_100g  :  float64\n",
      "caprylic-acid_100g  :  float64\n",
      "capric-acid_100g  :  float64\n",
      "lauric-acid_100g  :  float64\n",
      "myristic-acid_100g  :  float64\n",
      "palmitic-acid_100g  :  float64\n",
      "stearic-acid_100g  :  float64\n",
      "arachidic-acid_100g  :  float64\n",
      "behenic-acid_100g  :  float64\n",
      "lignoceric-acid_100g  :  float64\n",
      "cerotic-acid_100g  :  float64\n",
      "montanic-acid_100g  :  float64\n",
      "melissic-acid_100g  :  float64\n",
      "unsaturated-fat_100g  :  float64\n",
      "monounsaturated-fat_100g  :  float64\n",
      "polyunsaturated-fat_100g  :  float64\n",
      "omega-3-fat_100g  :  float64\n",
      "alpha-linolenic-acid_100g  :  float64\n",
      "eicosapentaenoic-acid_100g  :  float64\n",
      "docosahexaenoic-acid_100g  :  float64\n",
      "omega-6-fat_100g  :  float64\n",
      "linoleic-acid_100g  :  float64\n",
      "arachidonic-acid_100g  :  float64\n",
      "gamma-linolenic-acid_100g  :  float64\n",
      "dihomo-gamma-linolenic-acid_100g  :  float64\n",
      "omega-9-fat_100g  :  float64\n",
      "oleic-acid_100g  :  float64\n",
      "elaidic-acid_100g  :  float64\n",
      "gondoic-acid_100g  :  float64\n",
      "mead-acid_100g  :  float64\n",
      "erucic-acid_100g  :  float64\n",
      "nervonic-acid_100g  :  float64\n",
      "trans-fat_100g  :  float64\n",
      "cholesterol_100g  :  float64\n",
      "carbohydrates_100g  :  float64\n",
      "sugars_100g  :  float64\n",
      "added-sugars_100g  :  float64\n",
      "sucrose_100g  :  float64\n",
      "glucose_100g  :  float64\n",
      "fructose_100g  :  float64\n",
      "lactose_100g  :  float64\n",
      "maltose_100g  :  float64\n",
      "maltodextrins_100g  :  float64\n",
      "starch_100g  :  float64\n",
      "polyols_100g  :  float64\n",
      "erythritol_100g  :  float64\n",
      "fiber_100g  :  float64\n",
      "soluble-fiber_100g  :  float64\n",
      "insoluble-fiber_100g  :  float64\n",
      "proteins_100g  :  float64\n",
      "casein_100g  :  float64\n",
      "serum-proteins_100g  :  float64\n",
      "nucleotides_100g  :  float64\n",
      "salt_100g  :  float64\n",
      "added-salt_100g  :  float64\n",
      "sodium_100g  :  float64\n",
      "alcohol_100g  :  float64\n",
      "vitamin-a_100g  :  float64\n",
      "beta-carotene_100g  :  float64\n",
      "vitamin-d_100g  :  float64\n",
      "vitamin-e_100g  :  float64\n",
      "vitamin-k_100g  :  float64\n",
      "vitamin-c_100g  :  float64\n",
      "vitamin-b1_100g  :  float64\n",
      "vitamin-b2_100g  :  float64\n",
      "vitamin-pp_100g  :  float64\n",
      "vitamin-b6_100g  :  float64\n",
      "vitamin-b9_100g  :  float64\n",
      "folates_100g  :  float64\n",
      "vitamin-b12_100g  :  float64\n",
      "biotin_100g  :  float64\n",
      "pantothenic-acid_100g  :  float64\n",
      "silica_100g  :  float64\n",
      "bicarbonate_100g  :  float64\n",
      "potassium_100g  :  float64\n",
      "chloride_100g  :  float64\n",
      "calcium_100g  :  float64\n",
      "phosphorus_100g  :  float64\n",
      "iron_100g  :  float64\n",
      "magnesium_100g  :  float64\n",
      "zinc_100g  :  float64\n",
      "copper_100g  :  float64\n",
      "manganese_100g  :  float64\n",
      "fluoride_100g  :  float64\n",
      "selenium_100g  :  float64\n",
      "chromium_100g  :  float64\n",
      "molybdenum_100g  :  float64\n",
      "iodine_100g  :  float64\n",
      "caffeine_100g  :  float64\n",
      "taurine_100g  :  float64\n",
      "ph_100g  :  float64\n",
      "fruits-vegetables-nuts_100g  :  float64\n",
      "fruits-vegetables-nuts-dried_100g  :  float64\n",
      "fruits-vegetables-nuts-estimate_100g  :  float64\n",
      "fruits-vegetables-nuts-estimate-from-ingredients_100g  :  float64\n",
      "collagen-meat-protein-ratio_100g  :  float64\n",
      "cocoa_100g  :  float64\n",
      "chlorophyl_100g  :  float64\n",
      "carbon-footprint_100g  :  float64\n",
      "carbon-footprint-from-meat-or-fish_100g  :  float64\n",
      "nutrition-score-fr_100g  :  float64\n",
      "nutrition-score-uk_100g  :  float64\n",
      "glycemic-index_100g  :  float64\n",
      "water-hardness_100g  :  float64\n",
      "choline_100g  :  float64\n",
      "phylloquinone_100g  :  float64\n",
      "beta-glucan_100g  :  float64\n",
      "inositol_100g  :  float64\n",
      "carnitine_100g  :  float64\n"
     ]
    }
   ],
   "source": [
    "for i in range(len(df.columns)) :\n",
    "    print(df.dtypes.index[i], ' : ', df.dtypes[i])"
   ]
  },
  {
   "cell_type": "code",
   "execution_count": 25,
   "id": "912b7158",
   "metadata": {
    "scrolled": false
   },
   "outputs": [
    {
     "name": "stdout",
     "output_type": "stream",
     "text": [
      "code : 00000000001\n",
      "url : http://world-en.openfoodfacts.org/product/00000000001/hyde-icon\n",
      "product_name : hyde icon\n",
      "abbreviated_product_name : nan\n",
      "generic_name : nan\n",
      "quantity : nan\n",
      "packaging_en : nan\n",
      "packaging_text : nan\n",
      "brands : nan\n",
      "categories_en : nan\n",
      "origins_en : nan\n",
      "manufacturing_places : nan\n",
      "labels_en : nan\n",
      "emb_codes : nan\n",
      "first_packaging_code_geo : nan\n",
      "cities_tags : nan\n",
      "purchase_places : nan\n",
      "stores : nan\n",
      "countries_en : United States\n",
      "ingredients_text : beta alanine, creatine hcl, ancient peat & apple extract (as elevatp), l-leucine, l-isoleucine, l-valine, betaine anhydrous, arginine silicate inositol (as nitrosigine), cordyceps militaris (cordyceps), ganoderma lucidum (reishi), pleurotus eryngii (king trumpet), lentinula edodes (shitake), hericium erinaceus (lion's mane), and trametes veriscolor (turkey tail) (as peako2), phyllanthus emblica (fruit) extract (as capros), nattokinase (as nsk-sd40), 1000 fu (fibronolytic units) of enzyme activity, aframomum melegueta (seed) (6-paradol 12%) (as caloriburn gp), caffeine anhydrous, methyliberine (as dynamine 40%), theacrine (as teacrine 40%), citric acid, natural & artificial flavors, malic acid, soluble corn fiber, sucralose, acesulfame potassium, calcium silicate, silicon dioxide, fd&c blue lake #1\n",
      "ingredients_analysis_tags : en:palm-oil-content-unknown,en:vegan-status-unknown,en:vegetarian-status-unknown\n",
      "allergens : nan\n",
      "traces_en : nan\n",
      "serving_size : nan\n",
      "serving_quantity : nan\n",
      "no_nutrition_data : nan\n",
      "additives_n : 5.0\n",
      "additives_en : E296 - Malic acid,E330 - Citric acid,E552 - Calcium silicate,E950 - Acesulfame k,E955 - Sucralose\n",
      "nutriscore_score : nan\n",
      "nutriscore_grade : nan\n",
      "nova_group : 4.0\n",
      "pnns_groups_1 : unknown\n",
      "pnns_groups_2 : unknown\n",
      "food_groups_en : nan\n",
      "states_en : To be completed,Nutrition facts completed,Ingredients completed,Expiration date to be completed,Packaging code to be completed,Characteristics to be completed,Origins to be completed,Categories to be completed,Brands to be completed,Packaging to be completed,Quantity to be completed,Product name completed,Photos to be uploaded\n",
      "brand_owner : nan\n",
      "ecoscore_score : nan\n",
      "ecoscore_grade : unknown\n",
      "nutrient_levels_tags : nan\n",
      "product_quantity : nan\n",
      "owner : nan\n",
      "data_quality_errors_tags : nan\n",
      "unique_scans_n : nan\n",
      "popularity_tags : nan\n",
      "completeness : 0.3\n",
      "main_category_en : nan\n",
      "image_small_url : nan\n",
      "image_ingredients_small_url : nan\n",
      "image_nutrition_small_url : nan\n",
      "energy-kj_100g : nan\n",
      "energy-kcal_100g : nan\n",
      "energy_100g : nan\n",
      "energy-from-fat_100g : nan\n",
      "fat_100g : nan\n",
      "saturated-fat_100g : nan\n",
      "butyric-acid_100g : nan\n",
      "caproic-acid_100g : nan\n",
      "caprylic-acid_100g : nan\n",
      "capric-acid_100g : nan\n",
      "lauric-acid_100g : nan\n",
      "myristic-acid_100g : nan\n",
      "palmitic-acid_100g : nan\n",
      "stearic-acid_100g : nan\n",
      "arachidic-acid_100g : nan\n",
      "behenic-acid_100g : nan\n",
      "lignoceric-acid_100g : nan\n",
      "cerotic-acid_100g : nan\n",
      "montanic-acid_100g : nan\n",
      "melissic-acid_100g : nan\n",
      "unsaturated-fat_100g : nan\n",
      "monounsaturated-fat_100g : nan\n",
      "polyunsaturated-fat_100g : nan\n",
      "omega-3-fat_100g : nan\n",
      "alpha-linolenic-acid_100g : nan\n",
      "eicosapentaenoic-acid_100g : nan\n",
      "docosahexaenoic-acid_100g : nan\n",
      "omega-6-fat_100g : nan\n",
      "linoleic-acid_100g : nan\n",
      "arachidonic-acid_100g : nan\n",
      "gamma-linolenic-acid_100g : nan\n",
      "dihomo-gamma-linolenic-acid_100g : nan\n",
      "omega-9-fat_100g : nan\n",
      "oleic-acid_100g : nan\n",
      "elaidic-acid_100g : nan\n",
      "gondoic-acid_100g : nan\n",
      "mead-acid_100g : nan\n",
      "erucic-acid_100g : nan\n",
      "nervonic-acid_100g : nan\n",
      "trans-fat_100g : nan\n",
      "cholesterol_100g : nan\n",
      "carbohydrates_100g : nan\n",
      "sugars_100g : nan\n",
      "added-sugars_100g : nan\n",
      "sucrose_100g : nan\n",
      "glucose_100g : nan\n",
      "fructose_100g : nan\n",
      "lactose_100g : nan\n",
      "maltose_100g : nan\n",
      "maltodextrins_100g : nan\n",
      "starch_100g : nan\n",
      "polyols_100g : nan\n",
      "erythritol_100g : nan\n",
      "fiber_100g : nan\n",
      "soluble-fiber_100g : nan\n",
      "insoluble-fiber_100g : nan\n",
      "proteins_100g : nan\n",
      "casein_100g : nan\n",
      "serum-proteins_100g : nan\n",
      "nucleotides_100g : nan\n",
      "salt_100g : nan\n",
      "added-salt_100g : nan\n",
      "sodium_100g : nan\n",
      "alcohol_100g : nan\n",
      "vitamin-a_100g : nan\n",
      "beta-carotene_100g : nan\n",
      "vitamin-d_100g : nan\n",
      "vitamin-e_100g : nan\n",
      "vitamin-k_100g : nan\n",
      "vitamin-c_100g : nan\n",
      "vitamin-b1_100g : nan\n",
      "vitamin-b2_100g : nan\n",
      "vitamin-pp_100g : nan\n",
      "vitamin-b6_100g : nan\n",
      "vitamin-b9_100g : nan\n",
      "folates_100g : nan\n",
      "vitamin-b12_100g : nan\n",
      "biotin_100g : nan\n",
      "pantothenic-acid_100g : nan\n",
      "silica_100g : nan\n",
      "bicarbonate_100g : nan\n",
      "potassium_100g : nan\n",
      "chloride_100g : nan\n",
      "calcium_100g : nan\n",
      "phosphorus_100g : nan\n",
      "iron_100g : nan\n",
      "magnesium_100g : nan\n",
      "zinc_100g : nan\n",
      "copper_100g : nan\n",
      "manganese_100g : nan\n",
      "fluoride_100g : nan\n",
      "selenium_100g : nan\n",
      "chromium_100g : nan\n",
      "molybdenum_100g : nan\n",
      "iodine_100g : nan\n",
      "caffeine_100g : nan\n",
      "taurine_100g : nan\n",
      "ph_100g : nan\n",
      "fruits-vegetables-nuts_100g : nan\n",
      "fruits-vegetables-nuts-dried_100g : nan\n",
      "fruits-vegetables-nuts-estimate_100g : nan\n",
      "fruits-vegetables-nuts-estimate-from-ingredients_100g : 0.0\n",
      "collagen-meat-protein-ratio_100g : nan\n",
      "cocoa_100g : nan\n",
      "chlorophyl_100g : nan\n",
      "carbon-footprint_100g : nan\n",
      "carbon-footprint-from-meat-or-fish_100g : nan\n",
      "nutrition-score-fr_100g : nan\n",
      "nutrition-score-uk_100g : nan\n",
      "glycemic-index_100g : nan\n",
      "water-hardness_100g : nan\n",
      "choline_100g : nan\n",
      "phylloquinone_100g : nan\n",
      "beta-glucan_100g : nan\n",
      "inositol_100g : nan\n",
      "carnitine_100g : nan\n"
     ]
    }
   ],
   "source": [
    "index=0\n",
    "for i in (df.loc[10]):\n",
    "    print(str(col_names[index])+\" : \"+str(i))\n",
    "    index+=1"
   ]
  },
  {
   "cell_type": "markdown",
   "id": "f3036646",
   "metadata": {},
   "source": [
    "### Suppression ligne où product_name sont null "
   ]
  },
  {
   "cell_type": "code",
   "execution_count": 26,
   "id": "359e9b4d",
   "metadata": {},
   "outputs": [
    {
     "data": {
      "text/plain": [
       "(2725827, 165)"
      ]
     },
     "execution_count": 26,
     "metadata": {},
     "output_type": "execute_result"
    }
   ],
   "source": [
    "df = df.dropna(subset=['product_name'])\n",
    "df.shape"
   ]
  },
  {
   "cell_type": "markdown",
   "id": "65a7a0c7",
   "metadata": {},
   "source": [
    "### Suppression outliers des col _100g\n",
    "Les features suffixées avec _100g indiquent la quantité de nutriment pour 100g de produit. Les valeurs < 0 ou > 100 sont donc abbérantes. Les lignes où au moins une des features n'est pas dans [0;100] sont supprimées. \n",
    "Sauf les features qui ont des unités différentes : energy-kj_100g, energy-kcal_100g, 'energy_100g', 'energy-from-fat_100g',  ph_100g, carbon-footprint_100g, carbon-footprint-from-meat-or-fish_100g, nutrition-score-fr_100g, nutrition-score-uk_100g"
   ]
  },
  {
   "cell_type": "code",
   "execution_count": 27,
   "id": "b0760bbc",
   "metadata": {},
   "outputs": [],
   "source": [
    "g_per_100g_features = ['fat_100g', 'saturated-fat_100g', 'butyric-acid_100g', \n",
    "                       'caproic-acid_100g', 'caprylic-acid_100g', 'capric-acid_100g', 'lauric-acid_100g', \n",
    "                       'myristic-acid_100g', 'palmitic-acid_100g', 'stearic-acid_100g', 'arachidic-acid_100g', \n",
    "                       'behenic-acid_100g', 'lignoceric-acid_100g', 'cerotic-acid_100g', 'montanic-acid_100g', \n",
    "                       'melissic-acid_100g', 'unsaturated-fat_100g', 'monounsaturated-fat_100g', 'polyunsaturated-fat_100g', \n",
    "                       'omega-3-fat_100g', 'alpha-linolenic-acid_100g', 'eicosapentaenoic-acid_100g', \n",
    "                       'docosahexaenoic-acid_100g', 'omega-6-fat_100g', 'linoleic-acid_100g', 'arachidonic-acid_100g', \n",
    "                       'gamma-linolenic-acid_100g', 'dihomo-gamma-linolenic-acid_100g', 'omega-9-fat_100g', \n",
    "                       'oleic-acid_100g', 'elaidic-acid_100g', 'gondoic-acid_100g', 'mead-acid_100g', 'erucic-acid_100g', \n",
    "                       'nervonic-acid_100g', 'trans-fat_100g', 'cholesterol_100g', 'carbohydrates_100g', 'sugars_100g', \n",
    "                       'added-sugars_100g', 'sucrose_100g', 'glucose_100g', 'fructose_100g', 'lactose_100g', 'maltose_100g', \n",
    "                       'maltodextrins_100g', 'starch_100g', 'polyols_100g', 'erythritol_100g', 'fiber_100g', \n",
    "                       'soluble-fiber_100g', 'insoluble-fiber_100g', 'proteins_100g', 'casein_100g', 'serum-proteins_100g', \n",
    "                       'nucleotides_100g', 'salt_100g', 'added-salt_100g', 'sodium_100g', 'alcohol_100g', 'vitamin-a_100g', \n",
    "                       'beta-carotene_100g', 'vitamin-d_100g', 'vitamin-e_100g', 'vitamin-k_100g', 'vitamin-c_100g', \n",
    "                       'vitamin-b1_100g', 'vitamin-b2_100g', 'vitamin-pp_100g', 'vitamin-b6_100g', 'vitamin-b9_100g', \n",
    "                       'folates_100g', 'vitamin-b12_100g', 'biotin_100g', 'pantothenic-acid_100g', 'silica_100g', \n",
    "                       'bicarbonate_100g', 'potassium_100g', 'chloride_100g', 'calcium_100g', 'phosphorus_100g', \n",
    "                       'iron_100g', 'magnesium_100g', 'zinc_100g', 'copper_100g', 'manganese_100g', 'fluoride_100g', \n",
    "                       'selenium_100g', 'chromium_100g', 'molybdenum_100g', 'iodine_100g', 'caffeine_100g', \n",
    "                       'taurine_100g', 'fruits-vegetables-nuts_100g', 'fruits-vegetables-nuts-dried_100g', \n",
    "                       'fruits-vegetables-nuts-estimate_100g', 'fruits-vegetables-nuts-estimate-from-ingredients_100g', \n",
    "                       'collagen-meat-protein-ratio_100g', 'cocoa_100g', 'chlorophyl_100g', 'glycemic-index_100g', \n",
    "                       'water-hardness_100g', 'choline_100g', 'phylloquinone_100g', 'beta-glucan_100g', 'inositol_100g', \n",
    "                       'carnitine_100g']"
   ]
  },
  {
   "cell_type": "code",
   "execution_count": 28,
   "id": "4709ae55",
   "metadata": {},
   "outputs": [
    {
     "data": {
      "text/plain": [
       "(2721528, 165)"
      ]
     },
     "execution_count": 28,
     "metadata": {},
     "output_type": "execute_result"
    }
   ],
   "source": [
    "df = df[~(df[g_per_100g_features] > 100).any(axis=1)]\n",
    "df = df[~(df[g_per_100g_features] < 0).any(axis=1)]\n",
    "df.shape"
   ]
  },
  {
   "cell_type": "markdown",
   "id": "666da8dc",
   "metadata": {},
   "source": [
    "Les graisses saturées ne peuvent pas être supérieures au total de graisse, de même pour le sodium avec le sel. Energie max en kJ/g ne peut pas > 37. Donc suppression des lignes si ne respecte pas ces conditions "
   ]
  },
  {
   "cell_type": "code",
   "execution_count": 34,
   "id": "9e47c918",
   "metadata": {},
   "outputs": [
    {
     "data": {
      "text/plain": [
       "(2704017, 165)"
      ]
     },
     "execution_count": 34,
     "metadata": {},
     "output_type": "execute_result"
    }
   ],
   "source": [
    "df = df[~(df['saturated-fat_100g'] > df['fat_100g'])]\n",
    "df = df[~(df['sodium_100g'] > df['salt_100g'])]\n",
    "df = df[~(df['energy_100g'] > 3700)]\n",
    "df = df[~(df['energy-kcal_100g'] > 900)]\n",
    "df.shape"
   ]
  },
  {
   "cell_type": "code",
   "execution_count": 36,
   "id": "a68542c7",
   "metadata": {},
   "outputs": [],
   "source": [
    "df.to_csv(\"df_after100g.csv\", sep='\\t', encoding='utf-8', index=False)"
   ]
  },
  {
   "cell_type": "code",
   "execution_count": 50,
   "id": "b2e782aa",
   "metadata": {},
   "outputs": [
    {
     "data": {
      "text/plain": [
       "(2704017, 165)"
      ]
     },
     "execution_count": 50,
     "metadata": {},
     "output_type": "execute_result"
    }
   ],
   "source": [
    "df.shape"
   ]
  },
  {
   "cell_type": "code",
   "execution_count": 49,
   "id": "1336c258",
   "metadata": {},
   "outputs": [
    {
     "name": "stdout",
     "output_type": "stream",
     "text": [
      "CPU times: total: 1min 42s\n",
      "Wall time: 3min 36s\n"
     ]
    }
   ],
   "source": [
    "%%time\n",
    "df = pd.read_csv(\"df_after100g.csv\",\n",
    "              sep=\"\\t\", encoding=\"utf-8\", low_memory=False)"
   ]
  },
  {
   "cell_type": "code",
   "execution_count": 31,
   "id": "a72f457a",
   "metadata": {},
   "outputs": [
    {
     "name": "stdout",
     "output_type": "stream",
     "text": [
      "serving_quantity  :  float64\n",
      "additives_n  :  float64\n",
      "nutriscore_score  :  float64\n",
      "nova_group  :  float64\n",
      "ecoscore_score  :  float64\n",
      "product_quantity  :  float64\n",
      "unique_scans_n  :  float64\n",
      "completeness  :  float64\n",
      "energy-kj_100g  :  float64\n",
      "energy-kcal_100g  :  float64\n",
      "energy_100g  :  float64\n",
      "energy-from-fat_100g  :  float64\n",
      "fat_100g  :  float64\n",
      "saturated-fat_100g  :  float64\n",
      "butyric-acid_100g  :  float64\n",
      "caproic-acid_100g  :  float64\n",
      "caprylic-acid_100g  :  float64\n",
      "capric-acid_100g  :  float64\n",
      "lauric-acid_100g  :  float64\n",
      "myristic-acid_100g  :  float64\n",
      "palmitic-acid_100g  :  float64\n",
      "stearic-acid_100g  :  float64\n",
      "arachidic-acid_100g  :  float64\n",
      "behenic-acid_100g  :  float64\n",
      "lignoceric-acid_100g  :  float64\n",
      "cerotic-acid_100g  :  float64\n",
      "montanic-acid_100g  :  float64\n",
      "melissic-acid_100g  :  float64\n",
      "unsaturated-fat_100g  :  float64\n",
      "monounsaturated-fat_100g  :  float64\n",
      "polyunsaturated-fat_100g  :  float64\n",
      "omega-3-fat_100g  :  float64\n",
      "alpha-linolenic-acid_100g  :  float64\n",
      "eicosapentaenoic-acid_100g  :  float64\n",
      "docosahexaenoic-acid_100g  :  float64\n",
      "omega-6-fat_100g  :  float64\n",
      "linoleic-acid_100g  :  float64\n",
      "arachidonic-acid_100g  :  float64\n",
      "gamma-linolenic-acid_100g  :  float64\n",
      "dihomo-gamma-linolenic-acid_100g  :  float64\n",
      "omega-9-fat_100g  :  float64\n",
      "oleic-acid_100g  :  float64\n",
      "elaidic-acid_100g  :  float64\n",
      "gondoic-acid_100g  :  float64\n",
      "mead-acid_100g  :  float64\n",
      "erucic-acid_100g  :  float64\n",
      "nervonic-acid_100g  :  float64\n",
      "trans-fat_100g  :  float64\n",
      "cholesterol_100g  :  float64\n",
      "carbohydrates_100g  :  float64\n",
      "sugars_100g  :  float64\n",
      "added-sugars_100g  :  float64\n",
      "sucrose_100g  :  float64\n",
      "glucose_100g  :  float64\n",
      "fructose_100g  :  float64\n",
      "lactose_100g  :  float64\n",
      "maltose_100g  :  float64\n",
      "maltodextrins_100g  :  float64\n",
      "starch_100g  :  float64\n",
      "polyols_100g  :  float64\n",
      "erythritol_100g  :  float64\n",
      "fiber_100g  :  float64\n",
      "soluble-fiber_100g  :  float64\n",
      "insoluble-fiber_100g  :  float64\n",
      "proteins_100g  :  float64\n",
      "casein_100g  :  float64\n",
      "serum-proteins_100g  :  float64\n",
      "nucleotides_100g  :  float64\n",
      "salt_100g  :  float64\n",
      "added-salt_100g  :  float64\n",
      "sodium_100g  :  float64\n",
      "alcohol_100g  :  float64\n",
      "vitamin-a_100g  :  float64\n",
      "beta-carotene_100g  :  float64\n",
      "vitamin-d_100g  :  float64\n",
      "vitamin-e_100g  :  float64\n",
      "vitamin-k_100g  :  float64\n",
      "vitamin-c_100g  :  float64\n",
      "vitamin-b1_100g  :  float64\n",
      "vitamin-b2_100g  :  float64\n",
      "vitamin-pp_100g  :  float64\n",
      "vitamin-b6_100g  :  float64\n",
      "vitamin-b9_100g  :  float64\n",
      "folates_100g  :  float64\n",
      "vitamin-b12_100g  :  float64\n",
      "biotin_100g  :  float64\n",
      "pantothenic-acid_100g  :  float64\n",
      "silica_100g  :  float64\n",
      "bicarbonate_100g  :  float64\n",
      "potassium_100g  :  float64\n",
      "chloride_100g  :  float64\n",
      "calcium_100g  :  float64\n",
      "phosphorus_100g  :  float64\n",
      "iron_100g  :  float64\n",
      "magnesium_100g  :  float64\n",
      "zinc_100g  :  float64\n",
      "copper_100g  :  float64\n",
      "manganese_100g  :  float64\n",
      "fluoride_100g  :  float64\n",
      "selenium_100g  :  float64\n",
      "chromium_100g  :  float64\n",
      "molybdenum_100g  :  float64\n",
      "iodine_100g  :  float64\n",
      "caffeine_100g  :  float64\n",
      "taurine_100g  :  float64\n",
      "ph_100g  :  float64\n",
      "fruits-vegetables-nuts_100g  :  float64\n",
      "fruits-vegetables-nuts-dried_100g  :  float64\n",
      "fruits-vegetables-nuts-estimate_100g  :  float64\n",
      "fruits-vegetables-nuts-estimate-from-ingredients_100g  :  float64\n",
      "collagen-meat-protein-ratio_100g  :  float64\n",
      "cocoa_100g  :  float64\n",
      "chlorophyl_100g  :  float64\n",
      "carbon-footprint_100g  :  float64\n",
      "carbon-footprint-from-meat-or-fish_100g  :  float64\n",
      "nutrition-score-fr_100g  :  float64\n",
      "nutrition-score-uk_100g  :  float64\n",
      "glycemic-index_100g  :  float64\n",
      "water-hardness_100g  :  float64\n",
      "choline_100g  :  float64\n",
      "phylloquinone_100g  :  float64\n",
      "beta-glucan_100g  :  float64\n",
      "inositol_100g  :  float64\n",
      "carnitine_100g  :  float64\n"
     ]
    }
   ],
   "source": [
    "for i in range(len(df.columns)):\n",
    "    if df.dtypes[i] != 'object':  # Vérifie si le type de données de la colonne n'est pas \"object\"\n",
    "        print(df.dtypes.index[i], ' : ', df.dtypes[i])"
   ]
  },
  {
   "cell_type": "markdown",
   "id": "955f131a",
   "metadata": {},
   "source": [
    "outliers : 'serving_quantity', 'ecoscore_score', 'product_quantity', \n",
    "<br>\n",
    "pas outliers : 'additives_n', 'nutriscore_score', 'nova_group', \n",
    "<br>\n",
    "a supprimer : 'unique_scans_n', "
   ]
  },
  {
   "cell_type": "code",
   "execution_count": 46,
   "id": "5b16cccb",
   "metadata": {},
   "outputs": [],
   "source": [
    "import numpy as np\n",
    "\n",
    "# Calculer la médiane et l'écart-type des colonnes numériques\n",
    "num_cols_others = ['serving_quantity','ecoscore_score','product_quantity']\n",
    "median = df[num_cols_others].median()\n",
    "std = df[num_cols_others].std()\n",
    "\n",
    "# Identifier les lignes à conserver\n",
    "keep = np.abs(df[num_cols_others] - median) <= 5 * std\n",
    "keep = keep.all(axis=1)\n",
    "\n",
    "# Supprimer les lignes à éliminer\n",
    "df = df[keep]"
   ]
  },
  {
   "cell_type": "code",
   "execution_count": 47,
   "id": "391c0911",
   "metadata": {},
   "outputs": [
    {
     "data": {
      "text/plain": [
       "(98990, 165)"
      ]
     },
     "execution_count": 47,
     "metadata": {},
     "output_type": "execute_result"
    }
   ],
   "source": [
    "df.shape"
   ]
  },
  {
   "cell_type": "code",
   "execution_count": 51,
   "id": "78195b9c",
   "metadata": {},
   "outputs": [
    {
     "data": {
      "image/png": "[encoded data removed]",
      "text/plain": [
       "<Figure size 640x480 with 1 Axes>"
      ]
     },
     "metadata": {},
     "output_type": "display_data"
    }
   ],
   "source": [
    "import matplotlib.pyplot as plt\n",
    "from matplotlib.ticker import ScalarFormatter\n",
    "\n",
    "fig, ax = plt.subplots()\n",
    "ax = sns.boxplot(df.loc[:,['product_quantity']])\n",
    "ax.set_ylabel(\"Nutrition\")\n",
    "ax.set_title(\"Boxplots pour vérification outliers de product_quantity\")\n",
    "\n",
    "# Formatter les valeurs de l'axe y\n",
    "ax.yaxis.set_major_formatter(ScalarFormatter(useMathText=True))\n",
    "plt.show()"
   ]
  }
 ],
 "metadata": {
  "kernelspec": {
   "display_name": "Python 3 (ipykernel)",
   "language": "python",
   "name": "python3"
  },
  "language_info": {
   "codemirror_mode": {
    "name": "ipython",
    "version": 3
   },
   "file_extension": ".py",
   "mimetype": "text/x-python",
   "name": "python",
   "nbconvert_exporter": "python",
   "pygments_lexer": "ipython3",
   "version": "3.10.2"
  }
 },
 "nbformat": 4,
 "nbformat_minor": 5
}
