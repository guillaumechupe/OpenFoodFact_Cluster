{
 "cells": [
  {
   "cell_type": "code",
   "execution_count": 1,
   "id": "0c86888c",
   "metadata": {},
   "outputs": [],
   "source": [
    "#Dataframe\n",
    "import yaml\n",
    "import pandas as pd\n",
    "import numpy as np\n",
    "\n",
    "pd.options.display.max_seq_items = 3000000\n",
    "#Viz\n",
    "import matplotlib.pyplot as plt\n",
    "import seaborn as sns\n",
    "import matplotlib as mpl"
   ]
  },
  {
   "cell_type": "code",
   "execution_count": 2,
   "id": "68ed8ff6",
   "metadata": {
    "code_folding": []
   },
   "outputs": [
    {
     "name": "stdout",
     "output_type": "stream",
     "text": [
      "Reading dataset ...\n",
      "data set shape is (1000000, 166)\n"
     ]
    }
   ],
   "source": [
    "def read_config(file_path='./config.yaml'):\n",
    "    \"\"\"Reads configuration file\n",
    "    Args:\n",
    "        file_path (str, optional): file path\n",
    "    Returns:\n",
    "        dict: Parsed configuration file\n",
    "    \"\"\"\n",
    "    with open(file_path, \"r\") as f:\n",
    "        return yaml.safe_load(f)\n",
    "\n",
    "def get_data(file_path=None, nrows=None):\n",
    "    \"\"\"Loads data\n",
    "    Args:\n",
    "        file_path (str, optional): file path of dataset\n",
    "            By default load data set from static web page\n",
    "        nrows (int, optional): number or rows to loads from dataset\n",
    "            By default loads all dataset  \n",
    "    Returns:\n",
    "        dataframe: output dataframe\n",
    "    \"\"\"\n",
    "    if file_path is None:\n",
    "        cfg = read_config()\n",
    "        file_path = cfg['paths']['eng_dataset']\n",
    "    print(\"Reading dataset ...\")    \n",
    "    return pd.read_csv(file_path,sep=\"\\t\", encoding=\"utf-8\",\n",
    "                       nrows=nrows, low_memory=False)\n",
    "\n",
    "if __name__ == \"__main__\":\n",
    "    data = get_data(file_path = \"datas_reste_non_num_a_traiter2.csv\", nrows = 1000000)\n",
    "    print(f\"data set shape is {data.shape}\")"
   ]
  },
  {
   "cell_type": "code",
   "execution_count": 3,
   "id": "e51e7e5c",
   "metadata": {
    "scrolled": true
   },
   "outputs": [
    {
     "data": {
      "text/html": [
       "<div>\n",
       "<style scoped>\n",
       "    .dataframe tbody tr th:only-of-type {\n",
       "        vertical-align: middle;\n",
       "    }\n",
       "\n",
       "    .dataframe tbody tr th {\n",
       "        vertical-align: top;\n",
       "    }\n",
       "\n",
       "    .dataframe thead th {\n",
       "        text-align: right;\n",
       "    }\n",
       "</style>\n",
       "<table border=\"1\" class=\"dataframe\">\n",
       "  <thead>\n",
       "    <tr style=\"text-align: right;\">\n",
       "      <th></th>\n",
       "      <th>serving_quantity</th>\n",
       "      <th>additives_n</th>\n",
       "      <th>nutriscore_score</th>\n",
       "      <th>nova_group</th>\n",
       "      <th>ecoscore_score</th>\n",
       "      <th>product_quantity</th>\n",
       "      <th>unique_scans_n</th>\n",
       "      <th>completeness</th>\n",
       "      <th>energy-kj_100g</th>\n",
       "      <th>energy-kcal_100g</th>\n",
       "      <th>...</th>\n",
       "      <th>nutrition-score-fr_100g</th>\n",
       "      <th>nutrition-score-uk_100g</th>\n",
       "      <th>glycemic-index_100g</th>\n",
       "      <th>water-hardness_100g</th>\n",
       "      <th>choline_100g</th>\n",
       "      <th>phylloquinone_100g</th>\n",
       "      <th>beta-glucan_100g</th>\n",
       "      <th>inositol_100g</th>\n",
       "      <th>carnitine_100g</th>\n",
       "      <th>fruits-vegetables-rate_100g</th>\n",
       "    </tr>\n",
       "  </thead>\n",
       "  <tbody>\n",
       "    <tr>\n",
       "      <th>count</th>\n",
       "      <td>1000000.000000</td>\n",
       "      <td>1000000.000000</td>\n",
       "      <td>1000000.000000</td>\n",
       "      <td>1000000.000000</td>\n",
       "      <td>1000000.000000</td>\n",
       "      <td>1000000.000000</td>\n",
       "      <td>1000000.000000</td>\n",
       "      <td>1000000.000000</td>\n",
       "      <td>1000000.000000</td>\n",
       "      <td>1000000.000000</td>\n",
       "      <td>...</td>\n",
       "      <td>1000000.000000</td>\n",
       "      <td>1000000.000000</td>\n",
       "      <td>1000000.000000</td>\n",
       "      <td>1.000000e+06</td>\n",
       "      <td>1000000.000000</td>\n",
       "      <td>1000000.000000</td>\n",
       "      <td>1000000.000000</td>\n",
       "      <td>1000000.000000</td>\n",
       "      <td>1000000.000000</td>\n",
       "      <td>1000000.000000</td>\n",
       "    </tr>\n",
       "    <tr>\n",
       "      <th>mean</th>\n",
       "      <td>75.039003</td>\n",
       "      <td>1.487512</td>\n",
       "      <td>9.583464</td>\n",
       "      <td>3.676487</td>\n",
       "      <td>62.389284</td>\n",
       "      <td>323.830751</td>\n",
       "      <td>1.554554</td>\n",
       "      <td>0.487167</td>\n",
       "      <td>992.779033</td>\n",
       "      <td>260.308431</td>\n",
       "      <td>...</td>\n",
       "      <td>9.583474</td>\n",
       "      <td>17.808615</td>\n",
       "      <td>54.841267</td>\n",
       "      <td>1.475000e+00</td>\n",
       "      <td>0.088350</td>\n",
       "      <td>0.048576</td>\n",
       "      <td>1.518440</td>\n",
       "      <td>0.027965</td>\n",
       "      <td>0.011621</td>\n",
       "      <td>36.338480</td>\n",
       "    </tr>\n",
       "    <tr>\n",
       "      <th>std</th>\n",
       "      <td>74.657076</td>\n",
       "      <td>1.970279</td>\n",
       "      <td>6.056827</td>\n",
       "      <td>0.764430</td>\n",
       "      <td>17.546169</td>\n",
       "      <td>513.316767</td>\n",
       "      <td>4.132578</td>\n",
       "      <td>0.201459</td>\n",
       "      <td>477.600535</td>\n",
       "      <td>177.559877</td>\n",
       "      <td>...</td>\n",
       "      <td>6.056837</td>\n",
       "      <td>0.959321</td>\n",
       "      <td>11.118884</td>\n",
       "      <td>3.108626e-15</td>\n",
       "      <td>0.173802</td>\n",
       "      <td>0.755113</td>\n",
       "      <td>1.280557</td>\n",
       "      <td>0.075117</td>\n",
       "      <td>0.003835</td>\n",
       "      <td>9.910024</td>\n",
       "    </tr>\n",
       "    <tr>\n",
       "      <th>min</th>\n",
       "      <td>0.000000</td>\n",
       "      <td>0.000000</td>\n",
       "      <td>-15.000000</td>\n",
       "      <td>1.000000</td>\n",
       "      <td>0.000000</td>\n",
       "      <td>0.000000</td>\n",
       "      <td>1.000000</td>\n",
       "      <td>0.200000</td>\n",
       "      <td>0.000000</td>\n",
       "      <td>0.000000</td>\n",
       "      <td>...</td>\n",
       "      <td>-15.000000</td>\n",
       "      <td>13.000000</td>\n",
       "      <td>14.000000</td>\n",
       "      <td>1.475000e+00</td>\n",
       "      <td>0.008000</td>\n",
       "      <td>0.000000</td>\n",
       "      <td>0.400000</td>\n",
       "      <td>0.002000</td>\n",
       "      <td>0.000800</td>\n",
       "      <td>25.000000</td>\n",
       "    </tr>\n",
       "    <tr>\n",
       "      <th>25%</th>\n",
       "      <td>42.000000</td>\n",
       "      <td>1.000000</td>\n",
       "      <td>9.000000</td>\n",
       "      <td>4.000000</td>\n",
       "      <td>58.000000</td>\n",
       "      <td>250.000000</td>\n",
       "      <td>1.000000</td>\n",
       "      <td>0.362500</td>\n",
       "      <td>957.000000</td>\n",
       "      <td>105.000000</td>\n",
       "      <td>...</td>\n",
       "      <td>9.000000</td>\n",
       "      <td>18.000000</td>\n",
       "      <td>59.350000</td>\n",
       "      <td>1.475000e+00</td>\n",
       "      <td>0.073500</td>\n",
       "      <td>0.000017</td>\n",
       "      <td>1.200000</td>\n",
       "      <td>0.028000</td>\n",
       "      <td>0.011000</td>\n",
       "      <td>25.000000</td>\n",
       "    </tr>\n",
       "    <tr>\n",
       "      <th>50%</th>\n",
       "      <td>57.000000</td>\n",
       "      <td>1.000000</td>\n",
       "      <td>10.000000</td>\n",
       "      <td>4.000000</td>\n",
       "      <td>71.000000</td>\n",
       "      <td>250.000000</td>\n",
       "      <td>1.000000</td>\n",
       "      <td>0.462500</td>\n",
       "      <td>957.000000</td>\n",
       "      <td>258.800000</td>\n",
       "      <td>...</td>\n",
       "      <td>10.000000</td>\n",
       "      <td>18.000000</td>\n",
       "      <td>59.350000</td>\n",
       "      <td>1.475000e+00</td>\n",
       "      <td>0.073500</td>\n",
       "      <td>0.000056</td>\n",
       "      <td>1.200000</td>\n",
       "      <td>0.028000</td>\n",
       "      <td>0.011000</td>\n",
       "      <td>45.000000</td>\n",
       "    </tr>\n",
       "    <tr>\n",
       "      <th>75%</th>\n",
       "      <td>57.000000</td>\n",
       "      <td>1.000000</td>\n",
       "      <td>11.000000</td>\n",
       "      <td>4.000000</td>\n",
       "      <td>71.000000</td>\n",
       "      <td>300.000000</td>\n",
       "      <td>1.000000</td>\n",
       "      <td>0.575000</td>\n",
       "      <td>957.000000</td>\n",
       "      <td>386.000000</td>\n",
       "      <td>...</td>\n",
       "      <td>11.000000</td>\n",
       "      <td>18.000000</td>\n",
       "      <td>59.350000</td>\n",
       "      <td>1.475000e+00</td>\n",
       "      <td>0.073500</td>\n",
       "      <td>0.000056</td>\n",
       "      <td>1.200000</td>\n",
       "      <td>0.028000</td>\n",
       "      <td>0.011000</td>\n",
       "      <td>45.000000</td>\n",
       "    </tr>\n",
       "    <tr>\n",
       "      <th>max</th>\n",
       "      <td>5000.000000</td>\n",
       "      <td>15.000000</td>\n",
       "      <td>40.000000</td>\n",
       "      <td>4.000000</td>\n",
       "      <td>125.000000</td>\n",
       "      <td>80000.000000</td>\n",
       "      <td>461.000000</td>\n",
       "      <td>1.100000</td>\n",
       "      <td>3700.000000</td>\n",
       "      <td>900.000000</td>\n",
       "      <td>...</td>\n",
       "      <td>40.000000</td>\n",
       "      <td>18.000000</td>\n",
       "      <td>59.350000</td>\n",
       "      <td>1.475000e+00</td>\n",
       "      <td>4.550000</td>\n",
       "      <td>11.800000</td>\n",
       "      <td>7.300000</td>\n",
       "      <td>75.000000</td>\n",
       "      <td>0.030000</td>\n",
       "      <td>45.000000</td>\n",
       "    </tr>\n",
       "  </tbody>\n",
       "</table>\n",
       "<p>8 rows × 125 columns</p>\n",
       "</div>"
      ],
      "text/plain": [
       "       serving_quantity     additives_n  nutriscore_score      nova_group  \\\n",
       "count    1000000.000000  1000000.000000    1000000.000000  1000000.000000   \n",
       "mean          75.039003        1.487512          9.583464        3.676487   \n",
       "std           74.657076        1.970279          6.056827        0.764430   \n",
       "min            0.000000        0.000000        -15.000000        1.000000   \n",
       "25%           42.000000        1.000000          9.000000        4.000000   \n",
       "50%           57.000000        1.000000         10.000000        4.000000   \n",
       "75%           57.000000        1.000000         11.000000        4.000000   \n",
       "max         5000.000000       15.000000         40.000000        4.000000   \n",
       "\n",
       "       ecoscore_score  product_quantity  unique_scans_n    completeness  \\\n",
       "count  1000000.000000    1000000.000000  1000000.000000  1000000.000000   \n",
       "mean        62.389284        323.830751        1.554554        0.487167   \n",
       "std         17.546169        513.316767        4.132578        0.201459   \n",
       "min          0.000000          0.000000        1.000000        0.200000   \n",
       "25%         58.000000        250.000000        1.000000        0.362500   \n",
       "50%         71.000000        250.000000        1.000000        0.462500   \n",
       "75%         71.000000        300.000000        1.000000        0.575000   \n",
       "max        125.000000      80000.000000      461.000000        1.100000   \n",
       "\n",
       "       energy-kj_100g  energy-kcal_100g  ...  nutrition-score-fr_100g  \\\n",
       "count  1000000.000000    1000000.000000  ...           1000000.000000   \n",
       "mean       992.779033        260.308431  ...                 9.583474   \n",
       "std        477.600535        177.559877  ...                 6.056837   \n",
       "min          0.000000          0.000000  ...               -15.000000   \n",
       "25%        957.000000        105.000000  ...                 9.000000   \n",
       "50%        957.000000        258.800000  ...                10.000000   \n",
       "75%        957.000000        386.000000  ...                11.000000   \n",
       "max       3700.000000        900.000000  ...                40.000000   \n",
       "\n",
       "       nutrition-score-uk_100g  glycemic-index_100g  water-hardness_100g  \\\n",
       "count           1000000.000000       1000000.000000         1.000000e+06   \n",
       "mean                 17.808615            54.841267         1.475000e+00   \n",
       "std                   0.959321            11.118884         3.108626e-15   \n",
       "min                  13.000000            14.000000         1.475000e+00   \n",
       "25%                  18.000000            59.350000         1.475000e+00   \n",
       "50%                  18.000000            59.350000         1.475000e+00   \n",
       "75%                  18.000000            59.350000         1.475000e+00   \n",
       "max                  18.000000            59.350000         1.475000e+00   \n",
       "\n",
       "         choline_100g  phylloquinone_100g  beta-glucan_100g   inositol_100g  \\\n",
       "count  1000000.000000      1000000.000000    1000000.000000  1000000.000000   \n",
       "mean         0.088350            0.048576          1.518440        0.027965   \n",
       "std          0.173802            0.755113          1.280557        0.075117   \n",
       "min          0.008000            0.000000          0.400000        0.002000   \n",
       "25%          0.073500            0.000017          1.200000        0.028000   \n",
       "50%          0.073500            0.000056          1.200000        0.028000   \n",
       "75%          0.073500            0.000056          1.200000        0.028000   \n",
       "max          4.550000           11.800000          7.300000       75.000000   \n",
       "\n",
       "       carnitine_100g  fruits-vegetables-rate_100g  \n",
       "count  1000000.000000               1000000.000000  \n",
       "mean         0.011621                    36.338480  \n",
       "std          0.003835                     9.910024  \n",
       "min          0.000800                    25.000000  \n",
       "25%          0.011000                    25.000000  \n",
       "50%          0.011000                    45.000000  \n",
       "75%          0.011000                    45.000000  \n",
       "max          0.030000                    45.000000  \n",
       "\n",
       "[8 rows x 125 columns]"
      ]
     },
     "execution_count": 3,
     "metadata": {},
     "output_type": "execute_result"
    }
   ],
   "source": [
    "data.describe()"
   ]
  },
  {
   "cell_type": "markdown",
   "id": "9680426f",
   "metadata": {},
   "source": [
    "## Data Cleaning"
   ]
  },
  {
   "cell_type": "code",
   "execution_count": 4,
   "id": "c2fbd256",
   "metadata": {
    "code_folding": []
   },
   "outputs": [
    {
     "name": "stdout",
     "output_type": "stream",
     "text": [
      "{'code': 'object', 'url': 'object', 'product_name': 'object', 'abbreviated_product_name': 'category', 'generic_name': 'category', 'quantity': 'category', 'packaging_en': 'category', 'packaging_text': 'category', 'brands': 'category', 'categories_en': 'category', 'origins_en': 'category', 'manufacturing_places': 'category', 'labels_en': 'category', 'emb_codes': 'category', 'first_packaging_code_geo': 'category', 'cities_tags': 'category', 'purchase_places': 'category', 'stores': 'category', 'countries_en': 'category', 'ingredients_text': 'category', 'ingredients_analysis_tags': 'category', 'allergens': 'category', 'traces_en': 'category', 'serving_size': 'category', 'no_nutrition_data': 'category', 'additives_en': 'category', 'nutriscore_grade': 'category', 'pnns_groups_1': 'category', 'pnns_groups_2': 'category', 'food_groups_en': 'category', 'states_en': 'category', 'brand_owner': 'category', 'ecoscore_grade': 'category', 'nutrient_levels_tags': 'category', 'owner': 'category', 'data_quality_errors_tags': 'category', 'popularity_tags': 'category', 'main_category_en': 'category', 'image_small_url': 'object', 'image_ingredients_small_url': 'category', 'image_nutrition_small_url': 'object', 'serving_quantity': 'float32', 'additives_n': 'float32', 'nutriscore_score': 'float32', 'nova_group': 'float32', 'ecoscore_score': 'float32', 'product_quantity': 'float32', 'unique_scans_n': 'float32', 'completeness': 'float32', 'energy-kj_100g': 'float32', 'energy-kcal_100g': 'float32', 'energy_100g': 'float32', 'energy-from-fat_100g': 'float32', 'fat_100g': 'float32', 'saturated-fat_100g': 'float32', 'butyric-acid_100g': 'float32', 'caproic-acid_100g': 'float32', 'caprylic-acid_100g': 'float32', 'capric-acid_100g': 'float32', 'lauric-acid_100g': 'float32', 'myristic-acid_100g': 'float32', 'palmitic-acid_100g': 'float32', 'stearic-acid_100g': 'float32', 'arachidic-acid_100g': 'float32', 'behenic-acid_100g': 'float32', 'lignoceric-acid_100g': 'float32', 'cerotic-acid_100g': 'float32', 'montanic-acid_100g': 'float32', 'melissic-acid_100g': 'float32', 'unsaturated-fat_100g': 'float32', 'monounsaturated-fat_100g': 'float32', 'polyunsaturated-fat_100g': 'float32', 'omega-3-fat_100g': 'float32', 'alpha-linolenic-acid_100g': 'float32', 'eicosapentaenoic-acid_100g': 'float32', 'docosahexaenoic-acid_100g': 'float32', 'omega-6-fat_100g': 'float32', 'linoleic-acid_100g': 'float32', 'arachidonic-acid_100g': 'float32', 'gamma-linolenic-acid_100g': 'float32', 'dihomo-gamma-linolenic-acid_100g': 'float32', 'omega-9-fat_100g': 'float32', 'oleic-acid_100g': 'float32', 'elaidic-acid_100g': 'float32', 'gondoic-acid_100g': 'float32', 'mead-acid_100g': 'float32', 'erucic-acid_100g': 'float32', 'nervonic-acid_100g': 'float32', 'trans-fat_100g': 'float32', 'cholesterol_100g': 'float32', 'carbohydrates_100g': 'float32', 'sugars_100g': 'float32', 'added-sugars_100g': 'float32', 'sucrose_100g': 'float32', 'glucose_100g': 'float32', 'fructose_100g': 'float32', 'lactose_100g': 'float32', 'maltose_100g': 'float32', 'maltodextrins_100g': 'float32', 'starch_100g': 'float32', 'polyols_100g': 'float32', 'erythritol_100g': 'float32', 'fiber_100g': 'float32', 'soluble-fiber_100g': 'float32', 'insoluble-fiber_100g': 'float32', 'proteins_100g': 'float32', 'casein_100g': 'float32', 'serum-proteins_100g': 'float32', 'nucleotides_100g': 'float32', 'salt_100g': 'float32', 'added-salt_100g': 'float32', 'sodium_100g': 'float32', 'alcohol_100g': 'float32', 'vitamin-a_100g': 'float32', 'beta-carotene_100g': 'float32', 'vitamin-d_100g': 'float32', 'vitamin-e_100g': 'float32', 'vitamin-k_100g': 'float32', 'vitamin-c_100g': 'float32', 'vitamin-b1_100g': 'float32', 'vitamin-b2_100g': 'float32', 'vitamin-pp_100g': 'float32', 'vitamin-b6_100g': 'float32', 'vitamin-b9_100g': 'float32', 'folates_100g': 'float32', 'vitamin-b12_100g': 'float32', 'biotin_100g': 'float32', 'pantothenic-acid_100g': 'float32', 'silica_100g': 'float32', 'bicarbonate_100g': 'float32', 'potassium_100g': 'float32', 'chloride_100g': 'float32', 'calcium_100g': 'float32', 'phosphorus_100g': 'float32', 'iron_100g': 'float32', 'magnesium_100g': 'float32', 'zinc_100g': 'float32', 'copper_100g': 'float32', 'manganese_100g': 'float32', 'fluoride_100g': 'float32', 'selenium_100g': 'float32', 'chromium_100g': 'float32', 'molybdenum_100g': 'float32', 'iodine_100g': 'float32', 'caffeine_100g': 'float32', 'taurine_100g': 'float32', 'ph_100g': 'float32', 'fruits-vegetables-nuts_100g': 'float32', 'fruits-vegetables-nuts-dried_100g': 'float32', 'fruits-vegetables-nuts-estimate_100g': 'float32', 'fruits-vegetables-nuts-estimate-from-ingredients_100g': 'float32', 'collagen-meat-protein-ratio_100g': 'float32', 'cocoa_100g': 'float32', 'chlorophyl_100g': 'float32', 'carbon-footprint_100g': 'float32', 'carbon-footprint-from-meat-or-fish_100g': 'float32', 'nutrition-score-fr_100g': 'float32', 'nutrition-score-uk_100g': 'float32', 'glycemic-index_100g': 'float32', 'water-hardness_100g': 'float32', 'choline_100g': 'float32', 'phylloquinone_100g': 'float32', 'beta-glucan_100g': 'float32', 'inositol_100g': 'float32', 'carnitine_100g': 'float32', 'fruits-vegetables-rate_100g': 'int8'}\n"
     ]
    }
   ],
   "source": [
    "## Changing format of object and float64 columns\n",
    "\n",
    "new_dtypes = {}\n",
    "\n",
    "# object -> category (if nb unique < half total nb of rows and not XXX_100g)\n",
    "for col in data.columns.values:\n",
    "    if data[col].dtype == 'object' :\n",
    "      if len(data[col].unique()) / len(data[col]) < 0.5:\n",
    "        new_dtypes[col] = 'category'\n",
    "      else:\n",
    "        new_dtypes[col] = 'object'\n",
    "\n",
    "# float64 -> float32\n",
    "for col in data.columns.values:\n",
    "    if data[col].dtype == 'float64':\n",
    "      if data[col].notna().sum()!=0: # 1% sample columns happening to be all null \n",
    "        new_dtypes[col] = 'float32'\n",
    "\n",
    "# int64 -> int8\n",
    "for col in data.columns.values:\n",
    "    if data[col].dtype == 'int64':\n",
    "        new_dtypes[col] = 'int8'\n",
    "        \n",
    "print(new_dtypes)"
   ]
  },
  {
   "cell_type": "code",
   "execution_count": 5,
   "id": "8612f6bd",
   "metadata": {
    "code_folding": [
     0
    ]
   },
   "outputs": [],
   "source": [
    "## Forcing XXX_100g and nutriscore columns to 'float32' and nova to 'object'\n",
    "\n",
    "X_100g_cols = data.columns[data.columns.str.contains('_100g')]\n",
    "for col in X_100g_cols:\n",
    "    new_dtypes[col] = 'float32'"
   ]
  },
  {
   "cell_type": "code",
   "execution_count": 6,
   "id": "58060b2c",
   "metadata": {},
   "outputs": [],
   "source": [
    "desc = data.describe(include='all')"
   ]
  },
  {
   "cell_type": "code",
   "execution_count": 7,
   "id": "138559ad",
   "metadata": {},
   "outputs": [
    {
     "name": "stdout",
     "output_type": "stream",
     "text": [
      "\n",
      "code | url | product_name | abbreviated_product_name | generic_name | quantity | \n",
      "packaging_en | packaging_text | brands | categories_en | origins_en | manufacturing_places | \n",
      "labels_en | emb_codes | first_packaging_code_geo | cities_tags | purchase_places | stores | \n",
      "countries_en | ingredients_text | ingredients_analysis_tags | allergens | traces_en | serving_size | \n",
      "serving_quantity | no_nutrition_data | additives_n | additives_en | nutriscore_score | nutriscore_grade | \n",
      "nova_group | pnns_groups_1 | pnns_groups_2 | food_groups_en | states_en | brand_owner | \n",
      "ecoscore_score | ecoscore_grade | nutrient_levels_tags | product_quantity | owner | data_quality_errors_tags | \n",
      "unique_scans_n | popularity_tags | completeness | main_category_en | image_small_url | image_ingredients_small_url | \n",
      "image_nutrition_small_url | energy-kj_100g | energy-kcal_100g | energy_100g | energy-from-fat_100g | fat_100g | \n",
      "saturated-fat_100g | butyric-acid_100g | caproic-acid_100g | caprylic-acid_100g | capric-acid_100g | lauric-acid_100g | \n",
      "myristic-acid_100g | palmitic-acid_100g | stearic-acid_100g | arachidic-acid_100g | behenic-acid_100g | lignoceric-acid_100g | \n",
      "cerotic-acid_100g | montanic-acid_100g | melissic-acid_100g | unsaturated-fat_100g | monounsaturated-fat_100g | polyunsaturated-fat_100g | \n",
      "omega-3-fat_100g | alpha-linolenic-acid_100g | eicosapentaenoic-acid_100g | docosahexaenoic-acid_100g | omega-6-fat_100g | linoleic-acid_100g | \n",
      "arachidonic-acid_100g | gamma-linolenic-acid_100g | dihomo-gamma-linolenic-acid_100g | omega-9-fat_100g | oleic-acid_100g | elaidic-acid_100g | \n",
      "gondoic-acid_100g | mead-acid_100g | erucic-acid_100g | nervonic-acid_100g | trans-fat_100g | cholesterol_100g | \n",
      "carbohydrates_100g | sugars_100g | added-sugars_100g | sucrose_100g | glucose_100g | fructose_100g | \n",
      "lactose_100g | maltose_100g | maltodextrins_100g | starch_100g | polyols_100g | erythritol_100g | \n",
      "fiber_100g | soluble-fiber_100g | insoluble-fiber_100g | proteins_100g | casein_100g | serum-proteins_100g | \n",
      "nucleotides_100g | salt_100g | added-salt_100g | sodium_100g | alcohol_100g | vitamin-a_100g | \n",
      "beta-carotene_100g | vitamin-d_100g | vitamin-e_100g | vitamin-k_100g | vitamin-c_100g | vitamin-b1_100g | \n",
      "vitamin-b2_100g | vitamin-pp_100g | vitamin-b6_100g | vitamin-b9_100g | folates_100g | vitamin-b12_100g | \n",
      "biotin_100g | pantothenic-acid_100g | silica_100g | bicarbonate_100g | potassium_100g | chloride_100g | \n",
      "calcium_100g | phosphorus_100g | iron_100g | magnesium_100g | zinc_100g | copper_100g | \n",
      "manganese_100g | fluoride_100g | selenium_100g | chromium_100g | molybdenum_100g | iodine_100g | \n",
      "caffeine_100g | taurine_100g | ph_100g | fruits-vegetables-nuts_100g | fruits-vegetables-nuts-dried_100g | fruits-vegetables-nuts-estimate_100g | \n",
      "fruits-vegetables-nuts-estimate-from-ingredients_100g | collagen-meat-protein-ratio_100g | cocoa_100g | chlorophyl_100g | carbon-footprint_100g | carbon-footprint-from-meat-or-fish_100g | \n",
      "nutrition-score-fr_100g | nutrition-score-uk_100g | glycemic-index_100g | water-hardness_100g | choline_100g | phylloquinone_100g | \n",
      "beta-glucan_100g | inositol_100g | carnitine_100g | fruits-vegetables-rate_100g | "
     ]
    }
   ],
   "source": [
    "# Checking columns in df\n",
    "\n",
    "for i, c in enumerate(data.columns):\n",
    "    print('\\n'+c if i % 6 == 0 else c, end=' | ')"
   ]
  },
  {
   "cell_type": "markdown",
   "id": "78ecc9d2",
   "metadata": {},
   "source": [
    "## Features Selection"
   ]
  },
  {
   "cell_type": "markdown",
   "id": "d4d29e45",
   "metadata": {},
   "source": [
    "1.1 Empty Columns "
   ]
  },
  {
   "cell_type": "code",
   "execution_count": 8,
   "id": "0a347c44",
   "metadata": {},
   "outputs": [
    {
     "data": {
      "text/html": [
       "<div>\n",
       "<style scoped>\n",
       "    .dataframe tbody tr th:only-of-type {\n",
       "        vertical-align: middle;\n",
       "    }\n",
       "\n",
       "    .dataframe tbody tr th {\n",
       "        vertical-align: top;\n",
       "    }\n",
       "\n",
       "    .dataframe thead th {\n",
       "        text-align: right;\n",
       "    }\n",
       "</style>\n",
       "<table border=\"1\" class=\"dataframe\">\n",
       "  <thead>\n",
       "    <tr style=\"text-align: right;\">\n",
       "      <th></th>\n",
       "      <th>abbreviated_product_name</th>\n",
       "      <th>packaging_text</th>\n",
       "      <th>no_nutrition_data</th>\n",
       "      <th>owner</th>\n",
       "      <th>origins_en</th>\n",
       "      <th>data_quality_errors_tags</th>\n",
       "      <th>first_packaging_code_geo</th>\n",
       "      <th>cities_tags</th>\n",
       "      <th>manufacturing_places</th>\n",
       "      <th>generic_name</th>\n",
       "      <th>...</th>\n",
       "      <th>maltose_100g</th>\n",
       "      <th>polyunsaturated-fat_100g</th>\n",
       "      <th>alpha-linolenic-acid_100g</th>\n",
       "      <th>eicosapentaenoic-acid_100g</th>\n",
       "      <th>docosahexaenoic-acid_100g</th>\n",
       "      <th>omega-6-fat_100g</th>\n",
       "      <th>linoleic-acid_100g</th>\n",
       "      <th>arachidonic-acid_100g</th>\n",
       "      <th>omega-3-fat_100g</th>\n",
       "      <th>fruits-vegetables-rate_100g</th>\n",
       "    </tr>\n",
       "  </thead>\n",
       "  <tbody>\n",
       "    <tr>\n",
       "      <th>nb</th>\n",
       "      <td>6039</td>\n",
       "      <td>10878</td>\n",
       "      <td>16817</td>\n",
       "      <td>33713</td>\n",
       "      <td>53620</td>\n",
       "      <td>53682</td>\n",
       "      <td>58494</td>\n",
       "      <td>62920</td>\n",
       "      <td>69689</td>\n",
       "      <td>73945</td>\n",
       "      <td>...</td>\n",
       "      <td>1000000</td>\n",
       "      <td>1000000</td>\n",
       "      <td>1000000</td>\n",
       "      <td>1000000</td>\n",
       "      <td>1000000</td>\n",
       "      <td>1000000</td>\n",
       "      <td>1000000</td>\n",
       "      <td>1000000</td>\n",
       "      <td>1000000</td>\n",
       "      <td>1000000</td>\n",
       "    </tr>\n",
       "  </tbody>\n",
       "</table>\n",
       "<p>1 rows × 166 columns</p>\n",
       "</div>"
      ],
      "text/plain": [
       "    abbreviated_product_name  packaging_text  no_nutrition_data  owner  \\\n",
       "nb                      6039           10878              16817  33713   \n",
       "\n",
       "    origins_en  data_quality_errors_tags  first_packaging_code_geo  \\\n",
       "nb       53620                     53682                     58494   \n",
       "\n",
       "    cities_tags  manufacturing_places  generic_name  ...  maltose_100g  \\\n",
       "nb        62920                 69689         73945  ...       1000000   \n",
       "\n",
       "    polyunsaturated-fat_100g  alpha-linolenic-acid_100g  \\\n",
       "nb                   1000000                    1000000   \n",
       "\n",
       "    eicosapentaenoic-acid_100g  docosahexaenoic-acid_100g  omega-6-fat_100g  \\\n",
       "nb                     1000000                    1000000           1000000   \n",
       "\n",
       "    linoleic-acid_100g  arachidonic-acid_100g  omega-3-fat_100g  \\\n",
       "nb             1000000                1000000           1000000   \n",
       "\n",
       "    fruits-vegetables-rate_100g  \n",
       "nb                      1000000  \n",
       "\n",
       "[1 rows x 166 columns]"
      ]
     },
     "execution_count": 8,
     "metadata": {},
     "output_type": "execute_result"
    }
   ],
   "source": [
    "\n",
    "\n",
    "# Checking nb of not null values in the columns\n",
    "\n",
    "nb_not_null = pd.DataFrame((~data.isna()).sum(axis =0), columns=['nb'])\n",
    "nb_not_null.sort_values(by=['nb'], axis=0, ascending=True, inplace=True)\n",
    "nb_not_null.T.head(150)\n",
    "\n"
   ]
  },
  {
   "cell_type": "code",
   "execution_count": 9,
   "id": "2dd06007",
   "metadata": {},
   "outputs": [
    {
     "data": {
      "text/plain": [
       "(-1, 0]               0\n",
       "(0, 5]                0\n",
       "(5, 10]               0\n",
       "(10, 100]             0\n",
       "(100, 300]            0\n",
       "(300, 10000]          1\n",
       "(10000, 2000000]    165\n",
       "Name: nb, dtype: int64"
      ]
     },
     "execution_count": 9,
     "metadata": {},
     "output_type": "execute_result"
    }
   ],
   "source": [
    "# Displaying a table with bins\n",
    "mask = pd.cut(nb_not_null['nb'], [-1,0,5,10,100,300,10000,2000000]) # \n",
    "mask.value_counts(normalize=False, sort=False)\n",
    "\n"
   ]
  },
  {
   "cell_type": "code",
   "execution_count": 10,
   "id": "a1f00241",
   "metadata": {},
   "outputs": [],
   "source": [
    "# Changing the name of some of the columns\n",
    "\n",
    "data.rename(columns={'nutriscore_score': 'nutriscore',\n",
    "                   'nutriscore_grade': 'nutrigrade',\n",
    "                    'traces_en' : 'traces',\n",
    "                     'labels_en' : 'labels',\n",
    "                   'pnns_groups_1': 'pnns1',\n",
    "                   'pnns_groups_2': 'pnns2',\n",
    "                   'nutrition_score_fr_100g':'nutriscore_fr'},\n",
    "          inplace=True)\n",
    "\n"
   ]
  },
  {
   "cell_type": "code",
   "execution_count": 11,
   "id": "83d63d84",
   "metadata": {},
   "outputs": [],
   "source": [
    "# Changing the name of some of the columns\n",
    "\n",
    "data.rename(columns={'countries_en': 'countries',\n",
    "                     'packaging_en' : 'packaging',\n",
    "                   'additives_en': 'additives',\n",
    "                   'main_category_en': 'main_category',\n",
    "                   'categories_en': 'categories',\n",
    "                   'nutrition_score_fr_100g':'nutriscore_fr'},\n",
    "          inplace=True)"
   ]
  },
  {
   "cell_type": "markdown",
   "id": "dfd8fbb2",
   "metadata": {},
   "source": [
    "## Redundancy of features "
   ]
  },
  {
   "cell_type": "code",
   "execution_count": 12,
   "id": "d2275e0b",
   "metadata": {},
   "outputs": [],
   "source": [
    "\n",
    "\n",
    "# Comparing filled values in two columns\n",
    "''' returns indices where both are filled, or first only, or second, or none'''\n",
    "\n",
    "def comp_df (df, col1, col2, print_option):\n",
    "  m_both = (~df[[col1,col2]].isna()).sum(axis=1)==2 # mask for both cells filled\n",
    "  m_one = (~df[[col1,col2]].isna()).sum(axis=1)==1 # mask for only one cell filled\n",
    "  m_col1 = m_one & ~df[col1].isna() # mask for only col1 cell filled\n",
    "  m_col2 = m_one & ~df[col2].isna() # mask for only col2 cell filled\n",
    "  mnone = ~m_one & ~m_both\n",
    "  ind_both = df.index[m_both].to_list()\n",
    "  ind_col1 = df.index[m_col1].to_list()\n",
    "  ind_col2 = df.index[m_col2].to_list()\n",
    "  ind_none = df.index[mnone].to_list()\n",
    "  if print_option :\n",
    "    print(\"nb rows both filled: \", len(ind_both))\n",
    "    print(\"nb rows with only\", col1, \"filled: \", len(ind_col1))\n",
    "    print(\"nb rows with only\", col2, \"filled: \", len(ind_col2))\n",
    "    print(\"nb rows not filled: \", len(ind_none))\n",
    "  else:\n",
    "    pass\n",
    "  return(ind_both, ind_col1, ind_col2, ind_none)\n",
    "\n"
   ]
  },
  {
   "cell_type": "code",
   "execution_count": 13,
   "id": "6a7e090b",
   "metadata": {
    "scrolled": true
   },
   "outputs": [
    {
     "name": "stdout",
     "output_type": "stream",
     "text": [
      "COLUMN packaging :\n",
      "nb rows both filled:  10878\n",
      "nb rows with only packaging filled:  989122\n",
      "nb rows with only packaging_text filled:  0\n",
      "nb rows not filled:  0\n"
     ]
    }
   ],
   "source": [
    "\n",
    "\n",
    "# Printing result of comparison in each case:\n",
    "\n",
    "li_col = ['packaging']\n",
    "for c in li_col:\n",
    "  c1 = c\n",
    "  c2 = c+'_text'\n",
    "  print('COLUMN', c,':')\n",
    "  t_ind = comp_df(data, c1, c2, True)\n",
    "  data.loc[t_ind[1], [c1,c2]] = np.nan\n",
    "\n"
   ]
  },
  {
   "cell_type": "code",
   "execution_count": 14,
   "id": "d16d7e26",
   "metadata": {
    "scrolled": true
   },
   "outputs": [
    {
     "data": {
      "text/html": [
       "<div>\n",
       "<style scoped>\n",
       "    .dataframe tbody tr th:only-of-type {\n",
       "        vertical-align: middle;\n",
       "    }\n",
       "\n",
       "    .dataframe tbody tr th {\n",
       "        vertical-align: top;\n",
       "    }\n",
       "\n",
       "    .dataframe thead th {\n",
       "        text-align: right;\n",
       "    }\n",
       "</style>\n",
       "<table border=\"1\" class=\"dataframe\">\n",
       "  <thead>\n",
       "    <tr style=\"text-align: right;\">\n",
       "      <th></th>\n",
       "      <th>packaging</th>\n",
       "      <th>packaging_text</th>\n",
       "      <th>first_packaging_code_geo</th>\n",
       "    </tr>\n",
       "  </thead>\n",
       "  <tbody>\n",
       "    <tr>\n",
       "      <th>0</th>\n",
       "      <td>NaN</td>\n",
       "      <td>NaN</td>\n",
       "      <td>NaN</td>\n",
       "    </tr>\n",
       "    <tr>\n",
       "      <th>1</th>\n",
       "      <td>NaN</td>\n",
       "      <td>NaN</td>\n",
       "      <td>NaN</td>\n",
       "    </tr>\n",
       "    <tr>\n",
       "      <th>2</th>\n",
       "      <td>NaN</td>\n",
       "      <td>NaN</td>\n",
       "      <td>NaN</td>\n",
       "    </tr>\n",
       "    <tr>\n",
       "      <th>3</th>\n",
       "      <td>NaN</td>\n",
       "      <td>NaN</td>\n",
       "      <td>NaN</td>\n",
       "    </tr>\n",
       "    <tr>\n",
       "      <th>4</th>\n",
       "      <td>NaN</td>\n",
       "      <td>NaN</td>\n",
       "      <td>NaN</td>\n",
       "    </tr>\n",
       "    <tr>\n",
       "      <th>...</th>\n",
       "      <td>...</td>\n",
       "      <td>...</td>\n",
       "      <td>...</td>\n",
       "    </tr>\n",
       "    <tr>\n",
       "      <th>999995</th>\n",
       "      <td>NaN</td>\n",
       "      <td>NaN</td>\n",
       "      <td>NaN</td>\n",
       "    </tr>\n",
       "    <tr>\n",
       "      <th>999996</th>\n",
       "      <td>NaN</td>\n",
       "      <td>NaN</td>\n",
       "      <td>NaN</td>\n",
       "    </tr>\n",
       "    <tr>\n",
       "      <th>999997</th>\n",
       "      <td>NaN</td>\n",
       "      <td>NaN</td>\n",
       "      <td>NaN</td>\n",
       "    </tr>\n",
       "    <tr>\n",
       "      <th>999998</th>\n",
       "      <td>NaN</td>\n",
       "      <td>NaN</td>\n",
       "      <td>NaN</td>\n",
       "    </tr>\n",
       "    <tr>\n",
       "      <th>999999</th>\n",
       "      <td>NaN</td>\n",
       "      <td>NaN</td>\n",
       "      <td>NaN</td>\n",
       "    </tr>\n",
       "  </tbody>\n",
       "</table>\n",
       "<p>1000000 rows × 3 columns</p>\n",
       "</div>"
      ],
      "text/plain": [
       "       packaging packaging_text first_packaging_code_geo\n",
       "0            NaN            NaN                      NaN\n",
       "1            NaN            NaN                      NaN\n",
       "2            NaN            NaN                      NaN\n",
       "3            NaN            NaN                      NaN\n",
       "4            NaN            NaN                      NaN\n",
       "...          ...            ...                      ...\n",
       "999995       NaN            NaN                      NaN\n",
       "999996       NaN            NaN                      NaN\n",
       "999997       NaN            NaN                      NaN\n",
       "999998       NaN            NaN                      NaN\n",
       "999999       NaN            NaN                      NaN\n",
       "\n",
       "[1000000 rows x 3 columns]"
      ]
     },
     "execution_count": 14,
     "metadata": {},
     "output_type": "execute_result"
    }
   ],
   "source": [
    "data.filter( like = 'packaging')"
   ]
  },
  {
   "cell_type": "code",
   "execution_count": 15,
   "id": "10667a0b",
   "metadata": {},
   "outputs": [
    {
     "data": {
      "text/html": [
       "<div>\n",
       "<style scoped>\n",
       "    .dataframe tbody tr th:only-of-type {\n",
       "        vertical-align: middle;\n",
       "    }\n",
       "\n",
       "    .dataframe tbody tr th {\n",
       "        vertical-align: top;\n",
       "    }\n",
       "\n",
       "    .dataframe thead th {\n",
       "        text-align: right;\n",
       "    }\n",
       "</style>\n",
       "<table border=\"1\" class=\"dataframe\">\n",
       "  <thead>\n",
       "    <tr style=\"text-align: right;\">\n",
       "      <th></th>\n",
       "      <th>brands</th>\n",
       "    </tr>\n",
       "  </thead>\n",
       "  <tbody>\n",
       "    <tr>\n",
       "      <th>0</th>\n",
       "      <td>NaN</td>\n",
       "    </tr>\n",
       "    <tr>\n",
       "      <th>1</th>\n",
       "      <td>NaN</td>\n",
       "    </tr>\n",
       "    <tr>\n",
       "      <th>2</th>\n",
       "      <td>NaN</td>\n",
       "    </tr>\n",
       "    <tr>\n",
       "      <th>3</th>\n",
       "      <td>NaN</td>\n",
       "    </tr>\n",
       "    <tr>\n",
       "      <th>4</th>\n",
       "      <td>NaN</td>\n",
       "    </tr>\n",
       "    <tr>\n",
       "      <th>...</th>\n",
       "      <td>...</td>\n",
       "    </tr>\n",
       "    <tr>\n",
       "      <th>999995</th>\n",
       "      <td>NaN</td>\n",
       "    </tr>\n",
       "    <tr>\n",
       "      <th>999996</th>\n",
       "      <td>NaN</td>\n",
       "    </tr>\n",
       "    <tr>\n",
       "      <th>999997</th>\n",
       "      <td>NaN</td>\n",
       "    </tr>\n",
       "    <tr>\n",
       "      <th>999998</th>\n",
       "      <td>adler</td>\n",
       "    </tr>\n",
       "    <tr>\n",
       "      <th>999999</th>\n",
       "      <td>qualivo</td>\n",
       "    </tr>\n",
       "  </tbody>\n",
       "</table>\n",
       "<p>1000000 rows × 1 columns</p>\n",
       "</div>"
      ],
      "text/plain": [
       "         brands\n",
       "0           NaN\n",
       "1           NaN\n",
       "2           NaN\n",
       "3           NaN\n",
       "4           NaN\n",
       "...         ...\n",
       "999995      NaN\n",
       "999996      NaN\n",
       "999997      NaN\n",
       "999998    adler\n",
       "999999  qualivo\n",
       "\n",
       "[1000000 rows x 1 columns]"
      ]
     },
     "execution_count": 15,
     "metadata": {},
     "output_type": "execute_result"
    }
   ],
   "source": [
    "data.filter(like = 'brands')"
   ]
  },
  {
   "cell_type": "code",
   "execution_count": 16,
   "id": "4165ae84",
   "metadata": {},
   "outputs": [],
   "source": [
    "data.drop(columns = 'packaging_text',inplace = True)"
   ]
  },
  {
   "cell_type": "code",
   "execution_count": 17,
   "id": "375cf69d",
   "metadata": {},
   "outputs": [
    {
     "name": "stdout",
     "output_type": "stream",
     "text": [
      "\n",
      "code | url | product_name | abbreviated_product_name | generic_name | quantity | \n",
      "packaging | brands | categories | origins_en | manufacturing_places | labels | \n",
      "emb_codes | first_packaging_code_geo | cities_tags | purchase_places | stores | countries | \n",
      "ingredients_text | ingredients_analysis_tags | allergens | traces | serving_size | serving_quantity | \n",
      "no_nutrition_data | additives_n | additives | nutriscore | nutrigrade | nova_group | \n",
      "pnns1 | pnns2 | food_groups_en | states_en | brand_owner | ecoscore_score | \n",
      "ecoscore_grade | nutrient_levels_tags | product_quantity | owner | data_quality_errors_tags | unique_scans_n | \n",
      "popularity_tags | completeness | main_category | image_small_url | image_ingredients_small_url | image_nutrition_small_url | \n",
      "energy-kj_100g | energy-kcal_100g | energy_100g | energy-from-fat_100g | fat_100g | saturated-fat_100g | \n",
      "butyric-acid_100g | caproic-acid_100g | caprylic-acid_100g | capric-acid_100g | lauric-acid_100g | myristic-acid_100g | \n",
      "palmitic-acid_100g | stearic-acid_100g | arachidic-acid_100g | behenic-acid_100g | lignoceric-acid_100g | cerotic-acid_100g | \n",
      "montanic-acid_100g | melissic-acid_100g | unsaturated-fat_100g | monounsaturated-fat_100g | polyunsaturated-fat_100g | omega-3-fat_100g | \n",
      "alpha-linolenic-acid_100g | eicosapentaenoic-acid_100g | docosahexaenoic-acid_100g | omega-6-fat_100g | linoleic-acid_100g | arachidonic-acid_100g | \n",
      "gamma-linolenic-acid_100g | dihomo-gamma-linolenic-acid_100g | omega-9-fat_100g | oleic-acid_100g | elaidic-acid_100g | gondoic-acid_100g | \n",
      "mead-acid_100g | erucic-acid_100g | nervonic-acid_100g | trans-fat_100g | cholesterol_100g | carbohydrates_100g | \n",
      "sugars_100g | added-sugars_100g | sucrose_100g | glucose_100g | fructose_100g | lactose_100g | \n",
      "maltose_100g | maltodextrins_100g | starch_100g | polyols_100g | erythritol_100g | fiber_100g | \n",
      "soluble-fiber_100g | insoluble-fiber_100g | proteins_100g | casein_100g | serum-proteins_100g | nucleotides_100g | \n",
      "salt_100g | added-salt_100g | sodium_100g | alcohol_100g | vitamin-a_100g | beta-carotene_100g | \n",
      "vitamin-d_100g | vitamin-e_100g | vitamin-k_100g | vitamin-c_100g | vitamin-b1_100g | vitamin-b2_100g | \n",
      "vitamin-pp_100g | vitamin-b6_100g | vitamin-b9_100g | folates_100g | vitamin-b12_100g | biotin_100g | \n",
      "pantothenic-acid_100g | silica_100g | bicarbonate_100g | potassium_100g | chloride_100g | calcium_100g | \n",
      "phosphorus_100g | iron_100g | magnesium_100g | zinc_100g | copper_100g | manganese_100g | \n",
      "fluoride_100g | selenium_100g | chromium_100g | molybdenum_100g | iodine_100g | caffeine_100g | \n",
      "taurine_100g | ph_100g | fruits-vegetables-nuts_100g | fruits-vegetables-nuts-dried_100g | fruits-vegetables-nuts-estimate_100g | fruits-vegetables-nuts-estimate-from-ingredients_100g | \n",
      "collagen-meat-protein-ratio_100g | cocoa_100g | chlorophyl_100g | carbon-footprint_100g | carbon-footprint-from-meat-or-fish_100g | nutrition-score-fr_100g | \n",
      "nutrition-score-uk_100g | glycemic-index_100g | water-hardness_100g | choline_100g | phylloquinone_100g | beta-glucan_100g | \n",
      "inositol_100g | carnitine_100g | fruits-vegetables-rate_100g | "
     ]
    }
   ],
   "source": [
    "# Checking the remaining columns\n",
    "\n",
    "for i, c in enumerate(data.columns):\n",
    "    print('\\n'+c if i % 6 == 0 else c, end=' | ')"
   ]
  },
  {
   "cell_type": "markdown",
   "id": "c930c89b",
   "metadata": {},
   "source": [
    "## Categorial Features"
   ]
  },
  {
   "cell_type": "markdown",
   "id": "e86d2f22",
   "metadata": {},
   "source": [
    "#### 2.0 Missing value"
   ]
  },
  {
   "cell_type": "code",
   "execution_count": 18,
   "id": "6c89458d",
   "metadata": {},
   "outputs": [],
   "source": [
    "\n",
    "cols = ['brands', 'packaging', 'countries', 'labels', 'traces', 'additives',\n",
    "        'allergens', 'main_category', 'categories','pnns2', 'pnns1']\n"
   ]
  },
  {
   "cell_type": "code",
   "execution_count": 19,
   "id": "e581be6d",
   "metadata": {
    "code_folding": []
   },
   "outputs": [
    {
     "ename": "FileNotFoundError",
     "evalue": "[Errno 2] No such file or directory: '/image/C_2_0_cat_nb_vs_freq_thr.png'",
     "output_type": "error",
     "traceback": [
      "\u001b[0;31m---------------------------------------------------------------------------\u001b[0m",
      "\u001b[0;31mFileNotFoundError\u001b[0m                         Traceback (most recent call last)",
      "Cell \u001b[0;32mIn[19], line 25\u001b[0m\n\u001b[1;32m     22\u001b[0m fig\u001b[38;5;241m.\u001b[39msuptitle(\u001b[38;5;124m'\u001b[39m\u001b[38;5;124mNumber of categories with freq larger than threshold\u001b[39m\u001b[38;5;124m'\u001b[39m,\n\u001b[1;32m     23\u001b[0m              fontweight\u001b[38;5;241m=\u001b[39m\u001b[38;5;124m'\u001b[39m\u001b[38;5;124mbold\u001b[39m\u001b[38;5;124m'\u001b[39m, fontsize\u001b[38;5;241m=\u001b[39m\u001b[38;5;241m14\u001b[39m)\n\u001b[1;32m     24\u001b[0m plt\u001b[38;5;241m.\u001b[39mgcf()\u001b[38;5;241m.\u001b[39mset_size_inches(\u001b[38;5;241m14\u001b[39m,\u001b[38;5;241m4\u001b[39m)\n\u001b[0;32m---> 25\u001b[0m \u001b[43mplt\u001b[49m\u001b[38;5;241;43m.\u001b[39;49m\u001b[43msavefig\u001b[49m\u001b[43m(\u001b[49m\u001b[38;5;124;43m'\u001b[39;49m\u001b[38;5;124;43m/image/C_2_0_cat_nb_vs_freq_thr.png\u001b[39;49m\u001b[38;5;124;43m'\u001b[39;49m\u001b[43m,\u001b[49m\u001b[43m \u001b[49m\u001b[43mdpi\u001b[49m\u001b[38;5;241;43m=\u001b[39;49m\u001b[38;5;241;43m400\u001b[39;49m\u001b[43m)\u001b[49m;\n\u001b[1;32m     26\u001b[0m plt\u001b[38;5;241m.\u001b[39mshow()\n",
      "File \u001b[0;32m/Library/Frameworks/Python.framework/Versions/3.10/lib/python3.10/site-packages/matplotlib/pyplot.py:1023\u001b[0m, in \u001b[0;36msavefig\u001b[0;34m(*args, **kwargs)\u001b[0m\n\u001b[1;32m   1020\u001b[0m \u001b[38;5;129m@_copy_docstring_and_deprecators\u001b[39m(Figure\u001b[38;5;241m.\u001b[39msavefig)\n\u001b[1;32m   1021\u001b[0m \u001b[38;5;28;01mdef\u001b[39;00m \u001b[38;5;21msavefig\u001b[39m(\u001b[38;5;241m*\u001b[39margs, \u001b[38;5;241m*\u001b[39m\u001b[38;5;241m*\u001b[39mkwargs):\n\u001b[1;32m   1022\u001b[0m     fig \u001b[38;5;241m=\u001b[39m gcf()\n\u001b[0;32m-> 1023\u001b[0m     res \u001b[38;5;241m=\u001b[39m \u001b[43mfig\u001b[49m\u001b[38;5;241;43m.\u001b[39;49m\u001b[43msavefig\u001b[49m\u001b[43m(\u001b[49m\u001b[38;5;241;43m*\u001b[39;49m\u001b[43margs\u001b[49m\u001b[43m,\u001b[49m\u001b[43m \u001b[49m\u001b[38;5;241;43m*\u001b[39;49m\u001b[38;5;241;43m*\u001b[39;49m\u001b[43mkwargs\u001b[49m\u001b[43m)\u001b[49m\n\u001b[1;32m   1024\u001b[0m     fig\u001b[38;5;241m.\u001b[39mcanvas\u001b[38;5;241m.\u001b[39mdraw_idle()  \u001b[38;5;66;03m# Need this if 'transparent=True', to reset colors.\u001b[39;00m\n\u001b[1;32m   1025\u001b[0m     \u001b[38;5;28;01mreturn\u001b[39;00m res\n",
      "File \u001b[0;32m/Library/Frameworks/Python.framework/Versions/3.10/lib/python3.10/site-packages/matplotlib/figure.py:3343\u001b[0m, in \u001b[0;36mFigure.savefig\u001b[0;34m(self, fname, transparent, **kwargs)\u001b[0m\n\u001b[1;32m   3339\u001b[0m     \u001b[38;5;28;01mfor\u001b[39;00m ax \u001b[38;5;129;01min\u001b[39;00m \u001b[38;5;28mself\u001b[39m\u001b[38;5;241m.\u001b[39maxes:\n\u001b[1;32m   3340\u001b[0m         stack\u001b[38;5;241m.\u001b[39menter_context(\n\u001b[1;32m   3341\u001b[0m             ax\u001b[38;5;241m.\u001b[39mpatch\u001b[38;5;241m.\u001b[39m_cm_set(facecolor\u001b[38;5;241m=\u001b[39m\u001b[38;5;124m'\u001b[39m\u001b[38;5;124mnone\u001b[39m\u001b[38;5;124m'\u001b[39m, edgecolor\u001b[38;5;241m=\u001b[39m\u001b[38;5;124m'\u001b[39m\u001b[38;5;124mnone\u001b[39m\u001b[38;5;124m'\u001b[39m))\n\u001b[0;32m-> 3343\u001b[0m \u001b[38;5;28;43mself\u001b[39;49m\u001b[38;5;241;43m.\u001b[39;49m\u001b[43mcanvas\u001b[49m\u001b[38;5;241;43m.\u001b[39;49m\u001b[43mprint_figure\u001b[49m\u001b[43m(\u001b[49m\u001b[43mfname\u001b[49m\u001b[43m,\u001b[49m\u001b[43m \u001b[49m\u001b[38;5;241;43m*\u001b[39;49m\u001b[38;5;241;43m*\u001b[39;49m\u001b[43mkwargs\u001b[49m\u001b[43m)\u001b[49m\n",
      "File \u001b[0;32m/Library/Frameworks/Python.framework/Versions/3.10/lib/python3.10/site-packages/matplotlib/backend_bases.py:2366\u001b[0m, in \u001b[0;36mFigureCanvasBase.print_figure\u001b[0;34m(self, filename, dpi, facecolor, edgecolor, orientation, format, bbox_inches, pad_inches, bbox_extra_artists, backend, **kwargs)\u001b[0m\n\u001b[1;32m   2362\u001b[0m \u001b[38;5;28;01mtry\u001b[39;00m:\n\u001b[1;32m   2363\u001b[0m     \u001b[38;5;66;03m# _get_renderer may change the figure dpi (as vector formats\u001b[39;00m\n\u001b[1;32m   2364\u001b[0m     \u001b[38;5;66;03m# force the figure dpi to 72), so we need to set it again here.\u001b[39;00m\n\u001b[1;32m   2365\u001b[0m     \u001b[38;5;28;01mwith\u001b[39;00m cbook\u001b[38;5;241m.\u001b[39m_setattr_cm(\u001b[38;5;28mself\u001b[39m\u001b[38;5;241m.\u001b[39mfigure, dpi\u001b[38;5;241m=\u001b[39mdpi):\n\u001b[0;32m-> 2366\u001b[0m         result \u001b[38;5;241m=\u001b[39m \u001b[43mprint_method\u001b[49m\u001b[43m(\u001b[49m\n\u001b[1;32m   2367\u001b[0m \u001b[43m            \u001b[49m\u001b[43mfilename\u001b[49m\u001b[43m,\u001b[49m\n\u001b[1;32m   2368\u001b[0m \u001b[43m            \u001b[49m\u001b[43mfacecolor\u001b[49m\u001b[38;5;241;43m=\u001b[39;49m\u001b[43mfacecolor\u001b[49m\u001b[43m,\u001b[49m\n\u001b[1;32m   2369\u001b[0m \u001b[43m            \u001b[49m\u001b[43medgecolor\u001b[49m\u001b[38;5;241;43m=\u001b[39;49m\u001b[43medgecolor\u001b[49m\u001b[43m,\u001b[49m\n\u001b[1;32m   2370\u001b[0m \u001b[43m            \u001b[49m\u001b[43morientation\u001b[49m\u001b[38;5;241;43m=\u001b[39;49m\u001b[43morientation\u001b[49m\u001b[43m,\u001b[49m\n\u001b[1;32m   2371\u001b[0m \u001b[43m            \u001b[49m\u001b[43mbbox_inches_restore\u001b[49m\u001b[38;5;241;43m=\u001b[39;49m\u001b[43m_bbox_inches_restore\u001b[49m\u001b[43m,\u001b[49m\n\u001b[1;32m   2372\u001b[0m \u001b[43m            \u001b[49m\u001b[38;5;241;43m*\u001b[39;49m\u001b[38;5;241;43m*\u001b[39;49m\u001b[43mkwargs\u001b[49m\u001b[43m)\u001b[49m\n\u001b[1;32m   2373\u001b[0m \u001b[38;5;28;01mfinally\u001b[39;00m:\n\u001b[1;32m   2374\u001b[0m     \u001b[38;5;28;01mif\u001b[39;00m bbox_inches \u001b[38;5;129;01mand\u001b[39;00m restore_bbox:\n",
      "File \u001b[0;32m/Library/Frameworks/Python.framework/Versions/3.10/lib/python3.10/site-packages/matplotlib/backend_bases.py:2232\u001b[0m, in \u001b[0;36mFigureCanvasBase._switch_canvas_and_return_print_method.<locals>.<lambda>\u001b[0;34m(*args, **kwargs)\u001b[0m\n\u001b[1;32m   2228\u001b[0m     optional_kws \u001b[38;5;241m=\u001b[39m {  \u001b[38;5;66;03m# Passed by print_figure for other renderers.\u001b[39;00m\n\u001b[1;32m   2229\u001b[0m         \u001b[38;5;124m\"\u001b[39m\u001b[38;5;124mdpi\u001b[39m\u001b[38;5;124m\"\u001b[39m, \u001b[38;5;124m\"\u001b[39m\u001b[38;5;124mfacecolor\u001b[39m\u001b[38;5;124m\"\u001b[39m, \u001b[38;5;124m\"\u001b[39m\u001b[38;5;124medgecolor\u001b[39m\u001b[38;5;124m\"\u001b[39m, \u001b[38;5;124m\"\u001b[39m\u001b[38;5;124morientation\u001b[39m\u001b[38;5;124m\"\u001b[39m,\n\u001b[1;32m   2230\u001b[0m         \u001b[38;5;124m\"\u001b[39m\u001b[38;5;124mbbox_inches_restore\u001b[39m\u001b[38;5;124m\"\u001b[39m}\n\u001b[1;32m   2231\u001b[0m     skip \u001b[38;5;241m=\u001b[39m optional_kws \u001b[38;5;241m-\u001b[39m {\u001b[38;5;241m*\u001b[39minspect\u001b[38;5;241m.\u001b[39msignature(meth)\u001b[38;5;241m.\u001b[39mparameters}\n\u001b[0;32m-> 2232\u001b[0m     print_method \u001b[38;5;241m=\u001b[39m functools\u001b[38;5;241m.\u001b[39mwraps(meth)(\u001b[38;5;28;01mlambda\u001b[39;00m \u001b[38;5;241m*\u001b[39margs, \u001b[38;5;241m*\u001b[39m\u001b[38;5;241m*\u001b[39mkwargs: \u001b[43mmeth\u001b[49m\u001b[43m(\u001b[49m\n\u001b[1;32m   2233\u001b[0m \u001b[43m        \u001b[49m\u001b[38;5;241;43m*\u001b[39;49m\u001b[43margs\u001b[49m\u001b[43m,\u001b[49m\u001b[43m \u001b[49m\u001b[38;5;241;43m*\u001b[39;49m\u001b[38;5;241;43m*\u001b[39;49m\u001b[43m{\u001b[49m\u001b[43mk\u001b[49m\u001b[43m:\u001b[49m\u001b[43m \u001b[49m\u001b[43mv\u001b[49m\u001b[43m \u001b[49m\u001b[38;5;28;43;01mfor\u001b[39;49;00m\u001b[43m \u001b[49m\u001b[43mk\u001b[49m\u001b[43m,\u001b[49m\u001b[43m \u001b[49m\u001b[43mv\u001b[49m\u001b[43m \u001b[49m\u001b[38;5;129;43;01min\u001b[39;49;00m\u001b[43m \u001b[49m\u001b[43mkwargs\u001b[49m\u001b[38;5;241;43m.\u001b[39;49m\u001b[43mitems\u001b[49m\u001b[43m(\u001b[49m\u001b[43m)\u001b[49m\u001b[43m \u001b[49m\u001b[38;5;28;43;01mif\u001b[39;49;00m\u001b[43m \u001b[49m\u001b[43mk\u001b[49m\u001b[43m \u001b[49m\u001b[38;5;129;43;01mnot\u001b[39;49;00m\u001b[43m \u001b[49m\u001b[38;5;129;43;01min\u001b[39;49;00m\u001b[43m \u001b[49m\u001b[43mskip\u001b[49m\u001b[43m}\u001b[49m\u001b[43m)\u001b[49m)\n\u001b[1;32m   2234\u001b[0m \u001b[38;5;28;01melse\u001b[39;00m:  \u001b[38;5;66;03m# Let third-parties do as they see fit.\u001b[39;00m\n\u001b[1;32m   2235\u001b[0m     print_method \u001b[38;5;241m=\u001b[39m meth\n",
      "File \u001b[0;32m/Library/Frameworks/Python.framework/Versions/3.10/lib/python3.10/site-packages/matplotlib/backends/backend_agg.py:509\u001b[0m, in \u001b[0;36mFigureCanvasAgg.print_png\u001b[0;34m(self, filename_or_obj, metadata, pil_kwargs)\u001b[0m\n\u001b[1;32m    462\u001b[0m \u001b[38;5;28;01mdef\u001b[39;00m \u001b[38;5;21mprint_png\u001b[39m(\u001b[38;5;28mself\u001b[39m, filename_or_obj, \u001b[38;5;241m*\u001b[39m, metadata\u001b[38;5;241m=\u001b[39m\u001b[38;5;28;01mNone\u001b[39;00m, pil_kwargs\u001b[38;5;241m=\u001b[39m\u001b[38;5;28;01mNone\u001b[39;00m):\n\u001b[1;32m    463\u001b[0m \u001b[38;5;250m    \u001b[39m\u001b[38;5;124;03m\"\"\"\u001b[39;00m\n\u001b[1;32m    464\u001b[0m \u001b[38;5;124;03m    Write the figure to a PNG file.\u001b[39;00m\n\u001b[1;32m    465\u001b[0m \n\u001b[0;32m   (...)\u001b[0m\n\u001b[1;32m    507\u001b[0m \u001b[38;5;124;03m        *metadata*, including the default 'Software' key.\u001b[39;00m\n\u001b[1;32m    508\u001b[0m \u001b[38;5;124;03m    \"\"\"\u001b[39;00m\n\u001b[0;32m--> 509\u001b[0m     \u001b[38;5;28;43mself\u001b[39;49m\u001b[38;5;241;43m.\u001b[39;49m\u001b[43m_print_pil\u001b[49m\u001b[43m(\u001b[49m\u001b[43mfilename_or_obj\u001b[49m\u001b[43m,\u001b[49m\u001b[43m \u001b[49m\u001b[38;5;124;43m\"\u001b[39;49m\u001b[38;5;124;43mpng\u001b[39;49m\u001b[38;5;124;43m\"\u001b[39;49m\u001b[43m,\u001b[49m\u001b[43m \u001b[49m\u001b[43mpil_kwargs\u001b[49m\u001b[43m,\u001b[49m\u001b[43m \u001b[49m\u001b[43mmetadata\u001b[49m\u001b[43m)\u001b[49m\n",
      "File \u001b[0;32m/Library/Frameworks/Python.framework/Versions/3.10/lib/python3.10/site-packages/matplotlib/backends/backend_agg.py:458\u001b[0m, in \u001b[0;36mFigureCanvasAgg._print_pil\u001b[0;34m(self, filename_or_obj, fmt, pil_kwargs, metadata)\u001b[0m\n\u001b[1;32m    453\u001b[0m \u001b[38;5;250m\u001b[39m\u001b[38;5;124;03m\"\"\"\u001b[39;00m\n\u001b[1;32m    454\u001b[0m \u001b[38;5;124;03mDraw the canvas, then save it using `.image.imsave` (to which\u001b[39;00m\n\u001b[1;32m    455\u001b[0m \u001b[38;5;124;03m*pil_kwargs* and *metadata* are forwarded).\u001b[39;00m\n\u001b[1;32m    456\u001b[0m \u001b[38;5;124;03m\"\"\"\u001b[39;00m\n\u001b[1;32m    457\u001b[0m FigureCanvasAgg\u001b[38;5;241m.\u001b[39mdraw(\u001b[38;5;28mself\u001b[39m)\n\u001b[0;32m--> 458\u001b[0m \u001b[43mmpl\u001b[49m\u001b[38;5;241;43m.\u001b[39;49m\u001b[43mimage\u001b[49m\u001b[38;5;241;43m.\u001b[39;49m\u001b[43mimsave\u001b[49m\u001b[43m(\u001b[49m\n\u001b[1;32m    459\u001b[0m \u001b[43m    \u001b[49m\u001b[43mfilename_or_obj\u001b[49m\u001b[43m,\u001b[49m\u001b[43m \u001b[49m\u001b[38;5;28;43mself\u001b[39;49m\u001b[38;5;241;43m.\u001b[39;49m\u001b[43mbuffer_rgba\u001b[49m\u001b[43m(\u001b[49m\u001b[43m)\u001b[49m\u001b[43m,\u001b[49m\u001b[43m \u001b[49m\u001b[38;5;28;43mformat\u001b[39;49m\u001b[38;5;241;43m=\u001b[39;49m\u001b[43mfmt\u001b[49m\u001b[43m,\u001b[49m\u001b[43m \u001b[49m\u001b[43morigin\u001b[49m\u001b[38;5;241;43m=\u001b[39;49m\u001b[38;5;124;43m\"\u001b[39;49m\u001b[38;5;124;43mupper\u001b[39;49m\u001b[38;5;124;43m\"\u001b[39;49m\u001b[43m,\u001b[49m\n\u001b[1;32m    460\u001b[0m \u001b[43m    \u001b[49m\u001b[43mdpi\u001b[49m\u001b[38;5;241;43m=\u001b[39;49m\u001b[38;5;28;43mself\u001b[39;49m\u001b[38;5;241;43m.\u001b[39;49m\u001b[43mfigure\u001b[49m\u001b[38;5;241;43m.\u001b[39;49m\u001b[43mdpi\u001b[49m\u001b[43m,\u001b[49m\u001b[43m \u001b[49m\u001b[43mmetadata\u001b[49m\u001b[38;5;241;43m=\u001b[39;49m\u001b[43mmetadata\u001b[49m\u001b[43m,\u001b[49m\u001b[43m \u001b[49m\u001b[43mpil_kwargs\u001b[49m\u001b[38;5;241;43m=\u001b[39;49m\u001b[43mpil_kwargs\u001b[49m\u001b[43m)\u001b[49m\n",
      "File \u001b[0;32m/Library/Frameworks/Python.framework/Versions/3.10/lib/python3.10/site-packages/matplotlib/image.py:1689\u001b[0m, in \u001b[0;36mimsave\u001b[0;34m(fname, arr, vmin, vmax, cmap, format, origin, dpi, metadata, pil_kwargs)\u001b[0m\n\u001b[1;32m   1687\u001b[0m pil_kwargs\u001b[38;5;241m.\u001b[39msetdefault(\u001b[38;5;124m\"\u001b[39m\u001b[38;5;124mformat\u001b[39m\u001b[38;5;124m\"\u001b[39m, \u001b[38;5;28mformat\u001b[39m)\n\u001b[1;32m   1688\u001b[0m pil_kwargs\u001b[38;5;241m.\u001b[39msetdefault(\u001b[38;5;124m\"\u001b[39m\u001b[38;5;124mdpi\u001b[39m\u001b[38;5;124m\"\u001b[39m, (dpi, dpi))\n\u001b[0;32m-> 1689\u001b[0m \u001b[43mimage\u001b[49m\u001b[38;5;241;43m.\u001b[39;49m\u001b[43msave\u001b[49m\u001b[43m(\u001b[49m\u001b[43mfname\u001b[49m\u001b[43m,\u001b[49m\u001b[43m \u001b[49m\u001b[38;5;241;43m*\u001b[39;49m\u001b[38;5;241;43m*\u001b[39;49m\u001b[43mpil_kwargs\u001b[49m\u001b[43m)\u001b[49m\n",
      "File \u001b[0;32m/Library/Frameworks/Python.framework/Versions/3.10/lib/python3.10/site-packages/PIL/Image.py:2428\u001b[0m, in \u001b[0;36mImage.save\u001b[0;34m(self, fp, format, **params)\u001b[0m\n\u001b[1;32m   2426\u001b[0m         fp \u001b[38;5;241m=\u001b[39m builtins\u001b[38;5;241m.\u001b[39mopen(filename, \u001b[38;5;124m\"\u001b[39m\u001b[38;5;124mr+b\u001b[39m\u001b[38;5;124m\"\u001b[39m)\n\u001b[1;32m   2427\u001b[0m     \u001b[38;5;28;01melse\u001b[39;00m:\n\u001b[0;32m-> 2428\u001b[0m         fp \u001b[38;5;241m=\u001b[39m \u001b[43mbuiltins\u001b[49m\u001b[38;5;241;43m.\u001b[39;49m\u001b[43mopen\u001b[49m\u001b[43m(\u001b[49m\u001b[43mfilename\u001b[49m\u001b[43m,\u001b[49m\u001b[43m \u001b[49m\u001b[38;5;124;43m\"\u001b[39;49m\u001b[38;5;124;43mw+b\u001b[39;49m\u001b[38;5;124;43m\"\u001b[39;49m\u001b[43m)\u001b[49m\n\u001b[1;32m   2430\u001b[0m \u001b[38;5;28;01mtry\u001b[39;00m:\n\u001b[1;32m   2431\u001b[0m     save_handler(\u001b[38;5;28mself\u001b[39m, fp, filename)\n",
      "\u001b[0;31mFileNotFoundError\u001b[0m: [Errno 2] No such file or directory: '/image/C_2_0_cat_nb_vs_freq_thr.png'"
     ]
    },
    {
     "data": {
      "image/png": "[encoded data removed]",
      "text/plain": [
       "<Figure size 1400x400 with 2 Axes>"
      ]
     },
     "metadata": {},
     "output_type": "display_data"
    }
   ],
   "source": [
    "# Checking lower number of occurences in cat columns\n",
    "\n",
    "fig, axs = plt.subplots(1,2)\n",
    "thresh = [0,2,5,10,20,30,40,50,100,250,500,1000,5000]\n",
    "\n",
    "for i, c in enumerate(['pnns2', 'packaging', 'countries',\\\n",
    "                      'traces',  'allergens', 'labels']):\n",
    "    ser = data[c].value_counts()\n",
    "    axs[0].plot(thresh, np.array([len(ser[ser>t]) for t in thresh])+(i*30),\n",
    "             label=c, marker='o', ls='-.')\n",
    "    \n",
    "for i, c in enumerate(['pnns1', 'brands','main_category','additives',\\\n",
    "                      'categories']):\n",
    "    ser = data[c].value_counts()\n",
    "    axs[1].plot(thresh, np.array([len(ser[ser>t]) for t in thresh])+(i*30),\n",
    "             label=c, marker='o', ls='-.')\n",
    "\n",
    "[(ax.set_xlabel('threshold'),ax.set_ylabel('nb of categories')) for ax in axs];\n",
    "[ax.set(xlim=(0,150), ylim=(0,3000)) for ax in axs];\n",
    "[ax.legend() for ax in axs];\n",
    "\n",
    "fig.suptitle('Number of categories with freq larger than threshold',\n",
    "             fontweight='bold', fontsize=14)\n",
    "plt.gcf().set_size_inches(14,4)\n",
    "plt.savefig('/image/C_2_0_cat_nb_vs_freq_thr.png', dpi=400);\n",
    "plt.show()"
   ]
  },
  {
   "cell_type": "code",
   "execution_count": 24,
   "id": "6d562561",
   "metadata": {},
   "outputs": [],
   "source": [
    "\n",
    "def print_comp_info(col=li_col):\n",
    "  c1 = col\n",
    "  c2 = c1+'_tags'\n",
    "  # Comparing content of 2 columns, print info and returns indexes \n",
    "  t_ind = comp_df(data, c1, c2, True)\n",
    "  # Displaying a random sample of cells:\n",
    "  '''- when col1 only is filled\n",
    "  - when col2 only is filled\n",
    "  - when both columns are filled'''\n",
    "  display_side_by_side(df.loc[t_ind[1],[c1, c2]]\\\n",
    "                       .sample(5 if len(t_ind[1])>5 else len(t_ind[1])),\n",
    "                      df.loc[t_ind[2], [c1, c2]]\\\n",
    "                       .sample(5 if len(t_ind[2])>5 else len(t_ind[2])),\n",
    "                      df.loc[t_ind[0], [c1, c2]]\\\n",
    "                       .sample(5 if len(t_ind[0])>5 else len(t_ind[0])))\n",
    "\n"
   ]
  },
  {
   "cell_type": "markdown",
   "id": "b8f2ab55",
   "metadata": {},
   "source": [
    "### 2.1 Features with list"
   ]
  },
  {
   "cell_type": "code",
   "execution_count": 32,
   "id": "f1d3419a",
   "metadata": {},
   "outputs": [],
   "source": [
    "\n",
    "\n",
    "# Replace - by ' ' in  columns\n",
    "for c in cols:\n",
    "    data[c] = data[c].replace([r'[-]'], [' '], regex=True)"
   ]
  },
  {
   "cell_type": "code",
   "execution_count": 33,
   "id": "ab4e3a9d",
   "metadata": {},
   "outputs": [
    {
     "name": "stdout",
     "output_type": "stream",
     "text": [
      "BRANDS: 71360 lists\n",
      "PACKAGING: 5813 lists\n",
      "COUNTRIES: 27459 lists\n",
      "LABELS: 174606 lists\n",
      "TRACES: 52080 lists\n",
      "ADDITIVES: 215678 lists\n",
      "ALLERGENS: 57280 lists\n",
      "main_category: - no list - \n",
      "CATEGORIES: 475180 lists\n",
      "pnns2: - no list - \n",
      "pnns1: - no list - \n"
     ]
    }
   ],
   "source": [
    "\n",
    "\n",
    "# Printing columns containing lists or not\n",
    "\n",
    "for c in cols:\n",
    "    n_lists = data[c].str.contains(',').sum()\n",
    "    if data[c].str.contains(',').sum():\n",
    "        print(c.upper()+': ' + str(n_lists) + ' lists')\n",
    "    else:\n",
    "        print(c + ': - no list - ')\n",
    "\n"
   ]
  },
  {
   "cell_type": "code",
   "execution_count": 34,
   "id": "b7663d37",
   "metadata": {},
   "outputs": [],
   "source": [
    "\n",
    "\n",
    "# Splitting categories in 2 groups: containing lists, or not\n",
    "\n",
    "multi_cat_cols = ['brands', 'packaging', 'countries','labels',\n",
    "                  'traces','additives','allergens','categories']\n",
    "\n",
    "cat_cols = ['main_category', 'pnns1', 'pnns2']\n",
    "\n"
   ]
  },
  {
   "cell_type": "markdown",
   "id": "a89ef06c",
   "metadata": {},
   "source": [
    "\n",
    "### Splitting, extracting main, dropping less frequent values"
   ]
  },
  {
   "cell_type": "markdown",
   "id": "202e576a",
   "metadata": {},
   "source": [
    "categories with lists"
   ]
  },
  {
   "cell_type": "code",
   "execution_count": 30,
   "id": "742fedec",
   "metadata": {},
   "outputs": [],
   "source": [
    "\n",
    "\n",
    "# Setting to nan categories with less than freq 15 | returning tuples for others  \n",
    "\n",
    "def filter_main_categories(ser,n):\n",
    "    ser_m = ser\n",
    "    flat_values = pd.Series([item for sublist in ser.str.split(',')\\\n",
    "                            for item in sublist])\n",
    "    cat_occ = flat_values.value_counts()\n",
    "    to_keep = cat_occ[cat_occ>n].index\n",
    "    ser_m = ser_m.apply(lambda x: tuple([s.strip() for s in x.split(',')\\\n",
    "                                            if s.strip() in to_keep]))\n",
    "    return ser_m\n",
    "\n"
   ]
  },
  {
   "cell_type": "markdown",
   "id": "1943c010",
   "metadata": {},
   "source": [
    "categories without lists"
   ]
  },
  {
   "cell_type": "code",
   "execution_count": 36,
   "id": "badbcd96",
   "metadata": {},
   "outputs": [],
   "source": [
    "n = 15"
   ]
  },
  {
   "cell_type": "code",
   "execution_count": 48,
   "id": "cb95b6b8",
   "metadata": {},
   "outputs": [
    {
     "name": "stdout",
     "output_type": "stream",
     "text": [
      "before:  ['brands (89584) ', 'packaging (3215) ', 'countries (1767) ', 'labels (41364) ', 'traces (7497) ', 'additives (69293) ', 'allergens (3852) ', 'main_category (2703) ', 'categories (52471) ', 'pnns2 (40) ', 'pnns1 (11) ']\n"
     ]
    }
   ],
   "source": [
    "\n",
    "\n",
    "# Printing number of unique values of category columns\n",
    "\n",
    "print('Number of categories: ',[(cat+' ('+str(data[cat].nunique())+') ') for cat in cols])\n",
    "\n"
   ]
  },
  {
   "cell_type": "code",
   "execution_count": 52,
   "id": "71fd99c0",
   "metadata": {},
   "outputs": [
    {
     "data": {
      "image/png": "[encoded data removed]",
      "text/plain": [
       "<Figure size 640x480 with 1 Axes>"
      ]
     },
     "metadata": {},
     "output_type": "display_data"
    }
   ],
   "source": [
    "# Percentage of 'unknown' in categorical data\n",
    "\n",
    "tot = data.shape[0]\n",
    "ser = pd.DataFrame([[c, data[c].str.contains('unknown').sum()*100/tot] \\\n",
    "                 for c in data.select_dtypes('object').columns],\n",
    "                 columns=['col', 'pct_unknown']).set_index('col')\n",
    "ser.sort_values('pct_unknown').plot.barh()\n",
    "plt.savefig('image/C_2_0_unknown_cat_values.png', dpi=400);\n",
    "plt.show()\n"
   ]
  },
  {
   "cell_type": "raw",
   "id": "ae38266a",
   "metadata": {},
   "source": [
    "# Setting unknown to nan\n",
    "\n",
    "for c in ser.index:\n",
    "    df[c] = df[c].replace('unknown', np.nan)"
   ]
  },
  {
   "cell_type": "markdown",
   "id": "057c18a2",
   "metadata": {},
   "source": [
    "### 2.1 'product_name' column"
   ]
  },
  {
   "cell_type": "code",
   "execution_count": 58,
   "id": "b5db7ed2",
   "metadata": {},
   "outputs": [],
   "source": [
    "\n",
    "\n",
    "# Replacing invalid names (1 or 0 characters) with np.NaN\n",
    "\n",
    "\n",
    "data.loc[data[data['product_name'].str.len()<2].index,'product_name'] = np.nan"
   ]
  },
  {
   "cell_type": "markdown",
   "id": "e7cac4c4",
   "metadata": {},
   "source": [
    "\n",
    "### 2.2 'code' column"
   ]
  },
  {
   "cell_type": "code",
   "execution_count": 61,
   "id": "08d34415",
   "metadata": {},
   "outputs": [
    {
     "ename": "NameError",
     "evalue": "name 'is_valid' is not defined",
     "output_type": "error",
     "traceback": [
      "\u001b[0;31m---------------------------------------------------------------------------\u001b[0m",
      "\u001b[0;31mNameError\u001b[0m                                 Traceback (most recent call last)",
      "Cell \u001b[0;32mIn[61], line 4\u001b[0m\n\u001b[1;32m      1\u001b[0m \u001b[38;5;66;03m# Verification of barcodes (EAN-13, EAN-8 and UPC (12-digit) format)\u001b[39;00m\n\u001b[1;32m      2\u001b[0m \u001b[38;5;66;03m# Creation of a new column : 'code_val' (bool) barcode valid or not\u001b[39;00m\n\u001b[0;32m----> 4\u001b[0m data\u001b[38;5;241m.\u001b[39minsert(\u001b[38;5;241m1\u001b[39m,\u001b[38;5;124m'\u001b[39m\u001b[38;5;124mcode_val\u001b[39m\u001b[38;5;124m'\u001b[39m, data[\u001b[38;5;124m'\u001b[39m\u001b[38;5;124mcode\u001b[39m\u001b[38;5;124m'\u001b[39m]\u001b[38;5;241m.\u001b[39mapply(\u001b[43mis_valid\u001b[49m))\n\u001b[1;32m      5\u001b[0m \u001b[38;5;28mprint\u001b[39m(\u001b[38;5;124m\"\u001b[39m\u001b[38;5;124mnb of valid codes: \u001b[39m\u001b[38;5;124m\"\u001b[39m, data[\u001b[38;5;124m'\u001b[39m\u001b[38;5;124mcode_val\u001b[39m\u001b[38;5;124m'\u001b[39m]\u001b[38;5;241m.\u001b[39msum())\n\u001b[1;32m      6\u001b[0m \u001b[38;5;28mprint\u001b[39m(\u001b[38;5;124m\"\u001b[39m\u001b[38;5;124mnb of invalid codes: \u001b[39m\u001b[38;5;124m\"\u001b[39m, (\u001b[38;5;241m~\u001b[39mdf[\u001b[38;5;124m'\u001b[39m\u001b[38;5;124mcode_val\u001b[39m\u001b[38;5;124m'\u001b[39m])\u001b[38;5;241m.\u001b[39msum())\n",
      "\u001b[0;31mNameError\u001b[0m: name 'is_valid' is not defined"
     ]
    }
   ],
   "source": [
    "\n",
    "\n",
    "# Verification of barcodes (EAN-13, EAN-8 and UPC (12-digit) format)\n",
    "# Creation of a new column : 'code_val' (bool) barcode valid or not\n",
    "\n",
    "data.insert(1,'code_val', data['code'].apply(is_valid))\n",
    "print(\"nb of valid codes: \", data['code_val'].sum())\n",
    "print(\"nb of invalid codes: \", (~df['code_val']).sum())\n",
    "print(\"pctage of valid codes: {:.2f}%\".format(df['code_val'].sum()*100/df.shape[0]))\n",
    "\n"
   ]
  },
  {
   "cell_type": "code",
   "execution_count": null,
   "id": "f6672100",
   "metadata": {},
   "outputs": [],
   "source": []
  }
 ],
 "metadata": {
  "kernelspec": {
   "display_name": "Python 3 (ipykernel)",
   "language": "python",
   "name": "python3"
  },
  "language_info": {
   "codemirror_mode": {
    "name": "ipython",
    "version": 3
   },
   "file_extension": ".py",
   "mimetype": "text/x-python",
   "name": "python",
   "nbconvert_exporter": "python",
   "pygments_lexer": "ipython3",
   "version": "3.10.10"
  }
 },
 "nbformat": 4,
 "nbformat_minor": 5
}
