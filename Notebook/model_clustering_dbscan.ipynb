{
 "cells": [
  {
   "cell_type": "code",
   "execution_count": 1,
   "id": "61b67b29",
   "metadata": {},
   "outputs": [],
   "source": [
    "import numpy as np\n",
    "import pandas as pd\n",
    "import matplotlib.pyplot as plt\n",
    "import seaborn as sns\n",
    "from sklearn.cluster import KMeans, AgglomerativeClustering, DBSCAN\n",
    "from sklearn.preprocessing import MinMaxScaler, StandardScaler\n",
    "from sklearn.decomposition import PCA\n",
    "import matplotlib.pyplot as plt\n",
    "from sklearn.metrics import adjusted_mutual_info_score\n",
    "from sklearn.model_selection import GridSearchCV\n",
    "import joblib"
   ]
  },
  {
   "cell_type": "code",
   "execution_count": 2,
   "id": "25894f6e",
   "metadata": {},
   "outputs": [
    {
     "name": "stdout",
     "output_type": "stream",
     "text": [
      "CPU times: total: 39.4 s\n",
      "Wall time: 39.5 s\n"
     ]
    }
   ],
   "source": [
    "%%time\n",
    "df = pd.read_csv(\"../data/df_CatVal_cleanedV3.csv\",\n",
    "               encoding=\"utf-8\", low_memory=False, index_col=0)"
   ]
  },
  {
   "cell_type": "code",
   "execution_count": 3,
   "id": "4a8bcc79",
   "metadata": {},
   "outputs": [
    {
     "data": {
      "text/plain": [
       "(1833614, 144)"
      ]
     },
     "execution_count": 3,
     "metadata": {},
     "output_type": "execute_result"
    }
   ],
   "source": [
    "df.shape"
   ]
  },
  {
   "cell_type": "code",
   "execution_count": 4,
   "id": "892e7c5f",
   "metadata": {},
   "outputs": [],
   "source": [
    "df = df.sample(200000)"
   ]
  },
  {
   "cell_type": "code",
   "execution_count": 5,
   "id": "786a7c9d",
   "metadata": {},
   "outputs": [],
   "source": [
    "df.dropna(subset=['product_name'], inplace=True)"
   ]
  },
  {
   "cell_type": "code",
   "execution_count": 6,
   "id": "4c9615f2",
   "metadata": {},
   "outputs": [],
   "source": [
    "df_init = df"
   ]
  },
  {
   "cell_type": "code",
   "execution_count": 7,
   "id": "2282b349",
   "metadata": {},
   "outputs": [],
   "source": [
    "df['pnns1'] = pd.factorize(df['pnns1'])[0]"
   ]
  },
  {
   "cell_type": "markdown",
   "id": "c0b5b864",
   "metadata": {},
   "source": [
    "### Normalisation"
   ]
  },
  {
   "cell_type": "code",
   "execution_count": 8,
   "id": "ed84cfb8",
   "metadata": {},
   "outputs": [],
   "source": [
    "# Sélectionner les colonnes numériques\n",
    "numeric_cols = list(df.select_dtypes(include=[\"float64\",\"int64\"]).columns)"
   ]
  },
  {
   "cell_type": "code",
   "execution_count": 9,
   "id": "acd47187",
   "metadata": {},
   "outputs": [],
   "source": [
    "# Créer un scaler StandardScaler\n",
    "scaler = StandardScaler()"
   ]
  },
  {
   "cell_type": "code",
   "execution_count": 10,
   "id": "37934b83",
   "metadata": {},
   "outputs": [],
   "source": [
    "# Appliquer la normalisation aux colonnes numériques\n",
    "df[numeric_cols] = scaler.fit_transform(df[numeric_cols])"
   ]
  },
  {
   "cell_type": "code",
   "execution_count": 11,
   "id": "5545a4ed",
   "metadata": {},
   "outputs": [],
   "source": [
    "# Sélectionner les colonnes numériques\n",
    "cols_to_convert_int = list(df.select_dtypes(include=[\"int64\"]).columns)\n",
    "cols_to_convert_float = list(df.select_dtypes(include=[\"float64\"]).columns)\n",
    "\n",
    "# Changing format of object and float64 columns\n",
    "df[cols_to_convert_int] = df[cols_to_convert_int].astype('int32')\n",
    "df[cols_to_convert_float] = df[cols_to_convert_float].astype('float32')"
   ]
  },
  {
   "cell_type": "code",
   "execution_count": 12,
   "id": "7ef3b6ff",
   "metadata": {},
   "outputs": [],
   "source": [
    "# Supprimer les colonnes numériques non utiles à l'apprentissage\n",
    "numeric_cols.remove('pnns1')\n",
    "numeric_cols.remove('nutriscore')\n",
    "numeric_cols.remove('unique_scans_n')\n",
    "numeric_cols.remove('completeness')"
   ]
  },
  {
   "cell_type": "markdown",
   "id": "c7bad464",
   "metadata": {},
   "source": [
    "### X et y"
   ]
  },
  {
   "cell_type": "code",
   "execution_count": null,
   "id": "b2fb4a82",
   "metadata": {},
   "outputs": [],
   "source": [
    "X = df[numeric_cols]"
   ]
  },
  {
   "cell_type": "code",
   "execution_count": null,
   "id": "cf9ec7e1",
   "metadata": {},
   "outputs": [],
   "source": [
    "y = df['product_name']"
   ]
  },
  {
   "cell_type": "markdown",
   "id": "3ed03df1",
   "metadata": {},
   "source": [
    "### Petite PCA"
   ]
  },
  {
   "cell_type": "code",
   "execution_count": 13,
   "id": "64971899",
   "metadata": {},
   "outputs": [],
   "source": [
    "# Réduire la dimensionnalité avec PCA\n",
    "pca = PCA(n_components=20)\n",
    "pca_df = pd.DataFrame(pca.fit_transform(df[numeric_cols]))"
   ]
  },
  {
   "cell_type": "markdown",
   "id": "daef4475",
   "metadata": {},
   "source": [
    "## DBSCAN"
   ]
  },
  {
   "cell_type": "code",
   "execution_count": 23,
   "id": "f069c565",
   "metadata": {},
   "outputs": [],
   "source": [
    "labels_true = df['pnns1']\n",
    "X = pca_df"
   ]
  },
  {
   "cell_type": "code",
   "execution_count": 24,
   "id": "5ea1a01c",
   "metadata": {},
   "outputs": [],
   "source": [
    "import numpy as np\n",
    "\n",
    "from sklearn.cluster import DBSCAN\n",
    "from sklearn import metrics\n",
    "from sklearn.datasets import make_blobs\n",
    "from sklearn.preprocessing import StandardScaler\n",
    "\n",
    "def dbscan_clusters(X, eps=0.3, min_samples=10):\n",
    "    db = DBSCAN(eps=eps, min_samples=min_samples).fit(X)\n",
    "    core_samples_mask = np.zeros_like(db.labels_, dtype=bool)\n",
    "    core_samples_mask[db.core_sample_indices_] = True\n",
    "    labels = db.labels_\n",
    "\n",
    "    # Number of clusters in labels, ignoring noise if present.\n",
    "    n_clusters_ = len(set(labels)) - (1 if -1 in labels else 0)\n",
    "    n_noise_ = list(labels).count(-1)\n",
    "\n",
    "    print(\"Estimated number of clusters: %d\" % n_clusters_)\n",
    "    print(\"Estimated number of noise points: %d\" % n_noise_)\n",
    "    print(\"Homogeneity: %0.3f\" % metrics.homogeneity_score(labels_true, labels))\n",
    "    print(\"Completeness: %0.3f\" % metrics.completeness_score(labels_true, labels))\n",
    "    print(\"V-measure: %0.3f\" % metrics.v_measure_score(labels_true, labels))\n",
    "    print(\"Adjusted Rand Index: %0.3f\" % metrics.adjusted_rand_score(labels_true, labels))\n",
    "    print(\n",
    "        \"Adjusted Mutual Information: %0.3f\"\n",
    "        % metrics.adjusted_mutual_info_score(labels_true, labels)\n",
    "    )\n",
    "    print(\"Silhouette Coefficient: %0.3f\" % metrics.silhouette_score(X, labels))\n",
    "\n",
    "    # #############################################################################\n",
    "    # Plot result\n",
    "    import matplotlib.pyplot as plt\n",
    "\n",
    "    # Black removed and is used for noise instead.\n",
    "    unique_labels = set(labels)\n",
    "    colors = [plt.cm.Spectral(each) for each in np.linspace(0, 1, len(unique_labels))]\n",
    "    for k, col in zip(unique_labels, colors):\n",
    "        if k == -1:\n",
    "            # Black used for noise.\n",
    "            col = [0, 0, 0, 1]\n",
    "\n",
    "        class_member_mask = labels == k\n",
    "\n",
    "        xy = X[class_member_mask & core_samples_mask]\n",
    "        plt.plot(\n",
    "            xy[:, 0],\n",
    "            xy[:, 1],\n",
    "            \"o\",\n",
    "            markerfacecolor=tuple(col),\n",
    "            markeredgecolor=\"k\",\n",
    "            markersize=14,\n",
    "        )\n",
    "\n",
    "        xy = X[class_member_mask & ~core_samples_mask]\n",
    "        plt.plot(\n",
    "            xy[:, 0],\n",
    "            xy[:, 1],\n",
    "            \"o\",\n",
    "            markerfacecolor=tuple(col),\n",
    "            markeredgecolor=\"k\",\n",
    "            markersize=6,\n",
    "        )\n",
    "\n",
    "    plt.title(\"Estimated number of clusters: %d\" % n_clusters_)\n",
    "    plt.show()"
   ]
  },
  {
   "cell_type": "code",
   "execution_count": 25,
   "id": "ea69d8bf",
   "metadata": {},
   "outputs": [
    {
     "name": "stdout",
     "output_type": "stream",
     "text": [
      "Estimated number of clusters: 233\n",
      "Estimated number of noise points: 71568\n",
      "Homogeneity: 0.501\n",
      "Completeness: 0.398\n",
      "V-measure: 0.444\n",
      "Adjusted Rand Index: 0.386\n"
     ]
    },
    {
     "name": "stderr",
     "output_type": "stream",
     "text": [
      "C:\\Users\\joell\\VSCode\\OpenFoodFact_Cluster\\env\\lib\\site-packages\\sklearn\\metrics\\cluster\\_supervised.py:64: UserWarning: Clustering metrics expects discrete values but received continuous values for label, and multiclass values for target\n",
      "  warnings.warn(msg, UserWarning)\n",
      "C:\\Users\\joell\\VSCode\\OpenFoodFact_Cluster\\env\\lib\\site-packages\\sklearn\\metrics\\cluster\\_supervised.py:64: UserWarning: Clustering metrics expects discrete values but received continuous values for label, and multiclass values for target\n",
      "  warnings.warn(msg, UserWarning)\n",
      "C:\\Users\\joell\\VSCode\\OpenFoodFact_Cluster\\env\\lib\\site-packages\\sklearn\\metrics\\cluster\\_supervised.py:64: UserWarning: Clustering metrics expects discrete values but received continuous values for label, and multiclass values for target\n",
      "  warnings.warn(msg, UserWarning)\n",
      "C:\\Users\\joell\\VSCode\\OpenFoodFact_Cluster\\env\\lib\\site-packages\\sklearn\\metrics\\cluster\\_supervised.py:64: UserWarning: Clustering metrics expects discrete values but received continuous values for label, and multiclass values for target\n",
      "  warnings.warn(msg, UserWarning)\n",
      "C:\\Users\\joell\\VSCode\\OpenFoodFact_Cluster\\env\\lib\\site-packages\\sklearn\\metrics\\cluster\\_supervised.py:64: UserWarning: Clustering metrics expects discrete values but received continuous values for label, and multiclass values for target\n",
      "  warnings.warn(msg, UserWarning)\n"
     ]
    },
    {
     "name": "stdout",
     "output_type": "stream",
     "text": [
      "Adjusted Mutual Information: 0.442\n",
      "Silhouette Coefficient: -0.372\n"
     ]
    },
    {
     "ename": "InvalidIndexError",
     "evalue": "(slice(None, None, None), 0)",
     "output_type": "error",
     "traceback": [
      "\u001b[1;31m---------------------------------------------------------------------------\u001b[0m",
      "\u001b[1;31mInvalidIndexError\u001b[0m                         Traceback (most recent call last)",
      "Cell \u001b[1;32mIn[25], line 1\u001b[0m\n\u001b[1;32m----> 1\u001b[0m \u001b[43mdbscan_clusters\u001b[49m\u001b[43m(\u001b[49m\u001b[43mpca_df\u001b[49m\u001b[43m,\u001b[49m\u001b[43m \u001b[49m\u001b[43meps\u001b[49m\u001b[38;5;241;43m=\u001b[39;49m\u001b[38;5;241;43m0.35\u001b[39;49m\u001b[43m,\u001b[49m\u001b[43m \u001b[49m\u001b[43mmin_samples\u001b[49m\u001b[38;5;241;43m=\u001b[39;49m\u001b[38;5;241;43m20\u001b[39;49m\u001b[43m)\u001b[49m\n",
      "Cell \u001b[1;32mIn[24], line 46\u001b[0m, in \u001b[0;36mdbscan_clusters\u001b[1;34m(X, eps, min_samples)\u001b[0m\n\u001b[0;32m     42\u001b[0m class_member_mask \u001b[38;5;241m=\u001b[39m labels \u001b[38;5;241m==\u001b[39m k\n\u001b[0;32m     44\u001b[0m xy \u001b[38;5;241m=\u001b[39m X[class_member_mask \u001b[38;5;241m&\u001b[39m core_samples_mask]\n\u001b[0;32m     45\u001b[0m plt\u001b[38;5;241m.\u001b[39mplot(\n\u001b[1;32m---> 46\u001b[0m     \u001b[43mxy\u001b[49m\u001b[43m[\u001b[49m\u001b[43m:\u001b[49m\u001b[43m,\u001b[49m\u001b[43m \u001b[49m\u001b[38;5;241;43m0\u001b[39;49m\u001b[43m]\u001b[49m,\n\u001b[0;32m     47\u001b[0m     xy[:, \u001b[38;5;241m1\u001b[39m],\n\u001b[0;32m     48\u001b[0m     \u001b[38;5;124m\"\u001b[39m\u001b[38;5;124mo\u001b[39m\u001b[38;5;124m\"\u001b[39m,\n\u001b[0;32m     49\u001b[0m     markerfacecolor\u001b[38;5;241m=\u001b[39m\u001b[38;5;28mtuple\u001b[39m(col),\n\u001b[0;32m     50\u001b[0m     markeredgecolor\u001b[38;5;241m=\u001b[39m\u001b[38;5;124m\"\u001b[39m\u001b[38;5;124mk\u001b[39m\u001b[38;5;124m\"\u001b[39m,\n\u001b[0;32m     51\u001b[0m     markersize\u001b[38;5;241m=\u001b[39m\u001b[38;5;241m14\u001b[39m,\n\u001b[0;32m     52\u001b[0m )\n\u001b[0;32m     54\u001b[0m xy \u001b[38;5;241m=\u001b[39m X[class_member_mask \u001b[38;5;241m&\u001b[39m \u001b[38;5;241m~\u001b[39mcore_samples_mask]\n\u001b[0;32m     55\u001b[0m plt\u001b[38;5;241m.\u001b[39mplot(\n\u001b[0;32m     56\u001b[0m     xy[:, \u001b[38;5;241m0\u001b[39m],\n\u001b[0;32m     57\u001b[0m     xy[:, \u001b[38;5;241m1\u001b[39m],\n\u001b[1;32m   (...)\u001b[0m\n\u001b[0;32m     61\u001b[0m     markersize\u001b[38;5;241m=\u001b[39m\u001b[38;5;241m6\u001b[39m,\n\u001b[0;32m     62\u001b[0m )\n",
      "File \u001b[1;32m~\\VSCode\\OpenFoodFact_Cluster\\env\\lib\\site-packages\\pandas\\core\\frame.py:3760\u001b[0m, in \u001b[0;36mDataFrame.__getitem__\u001b[1;34m(self, key)\u001b[0m\n\u001b[0;32m   3758\u001b[0m \u001b[38;5;28;01mif\u001b[39;00m \u001b[38;5;28mself\u001b[39m\u001b[38;5;241m.\u001b[39mcolumns\u001b[38;5;241m.\u001b[39mnlevels \u001b[38;5;241m>\u001b[39m \u001b[38;5;241m1\u001b[39m:\n\u001b[0;32m   3759\u001b[0m     \u001b[38;5;28;01mreturn\u001b[39;00m \u001b[38;5;28mself\u001b[39m\u001b[38;5;241m.\u001b[39m_getitem_multilevel(key)\n\u001b[1;32m-> 3760\u001b[0m indexer \u001b[38;5;241m=\u001b[39m \u001b[38;5;28;43mself\u001b[39;49m\u001b[38;5;241;43m.\u001b[39;49m\u001b[43mcolumns\u001b[49m\u001b[38;5;241;43m.\u001b[39;49m\u001b[43mget_loc\u001b[49m\u001b[43m(\u001b[49m\u001b[43mkey\u001b[49m\u001b[43m)\u001b[49m\n\u001b[0;32m   3761\u001b[0m \u001b[38;5;28;01mif\u001b[39;00m is_integer(indexer):\n\u001b[0;32m   3762\u001b[0m     indexer \u001b[38;5;241m=\u001b[39m [indexer]\n",
      "File \u001b[1;32m~\\VSCode\\OpenFoodFact_Cluster\\env\\lib\\site-packages\\pandas\\core\\indexes\\range.py:348\u001b[0m, in \u001b[0;36mRangeIndex.get_loc\u001b[1;34m(self, key)\u001b[0m\n\u001b[0;32m    346\u001b[0m     \u001b[38;5;28;01mexcept\u001b[39;00m \u001b[38;5;167;01mValueError\u001b[39;00m \u001b[38;5;28;01mas\u001b[39;00m err:\n\u001b[0;32m    347\u001b[0m         \u001b[38;5;28;01mraise\u001b[39;00m \u001b[38;5;167;01mKeyError\u001b[39;00m(key) \u001b[38;5;28;01mfrom\u001b[39;00m \u001b[38;5;21;01merr\u001b[39;00m\n\u001b[1;32m--> 348\u001b[0m \u001b[38;5;28;43mself\u001b[39;49m\u001b[38;5;241;43m.\u001b[39;49m\u001b[43m_check_indexing_error\u001b[49m\u001b[43m(\u001b[49m\u001b[43mkey\u001b[49m\u001b[43m)\u001b[49m\n\u001b[0;32m    349\u001b[0m \u001b[38;5;28;01mraise\u001b[39;00m \u001b[38;5;167;01mKeyError\u001b[39;00m(key)\n",
      "File \u001b[1;32m~\\VSCode\\OpenFoodFact_Cluster\\env\\lib\\site-packages\\pandas\\core\\indexes\\base.py:5736\u001b[0m, in \u001b[0;36mIndex._check_indexing_error\u001b[1;34m(self, key)\u001b[0m\n\u001b[0;32m   5732\u001b[0m \u001b[38;5;28;01mdef\u001b[39;00m \u001b[38;5;21m_check_indexing_error\u001b[39m(\u001b[38;5;28mself\u001b[39m, key):\n\u001b[0;32m   5733\u001b[0m     \u001b[38;5;28;01mif\u001b[39;00m \u001b[38;5;129;01mnot\u001b[39;00m is_scalar(key):\n\u001b[0;32m   5734\u001b[0m         \u001b[38;5;66;03m# if key is not a scalar, directly raise an error (the code below\u001b[39;00m\n\u001b[0;32m   5735\u001b[0m         \u001b[38;5;66;03m# would convert to numpy arrays and raise later any way) - GH29926\u001b[39;00m\n\u001b[1;32m-> 5736\u001b[0m         \u001b[38;5;28;01mraise\u001b[39;00m InvalidIndexError(key)\n",
      "\u001b[1;31mInvalidIndexError\u001b[0m: (slice(None, None, None), 0)"
     ]
    }
   ],
   "source": [
    "dbscan_clusters(pca_df, eps=0.35, min_samples=20)"
   ]
  }
 ],
 "metadata": {
  "kernelspec": {
   "display_name": "Python 3 (ipykernel)",
   "language": "python",
   "name": "python3"
  },
  "language_info": {
   "codemirror_mode": {
    "name": "ipython",
    "version": 3
   },
   "file_extension": ".py",
   "mimetype": "text/x-python",
   "name": "python",
   "nbconvert_exporter": "python",
   "pygments_lexer": "ipython3",
   "version": "3.10.2"
  }
 },
 "nbformat": 4,
 "nbformat_minor": 5
}
