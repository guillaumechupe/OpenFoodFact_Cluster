{
 "cells": [
  {
   "cell_type": "code",
   "execution_count": 1,
   "id": "61b67b29",
   "metadata": {},
   "outputs": [],
   "source": [
    "import numpy as np\n",
    "import pandas as pd\n",
    "import matplotlib.pyplot as plt\n",
    "import seaborn as sns\n",
    "from sklearn.cluster import KMeans, AgglomerativeClustering, DBSCAN\n",
    "from sklearn.preprocessing import MinMaxScaler, StandardScaler\n",
    "from sklearn.decomposition import PCA\n",
    "import matplotlib.pyplot as plt\n",
    "from sklearn.metrics import adjusted_mutual_info_score\n",
    "from sklearn.model_selection import GridSearchCV"
   ]
  },
  {
   "cell_type": "code",
   "execution_count": 2,
   "id": "25894f6e",
   "metadata": {},
   "outputs": [
    {
     "name": "stdout",
     "output_type": "stream",
     "text": [
      "CPU times: total: 39.9 s\n",
      "Wall time: 40 s\n"
     ]
    }
   ],
   "source": [
    "%%time\n",
    "df = pd.read_csv(\"../data/df_CatVal_cleanedV3.csv\",\n",
    "               encoding=\"utf-8\", low_memory=False, index_col=0)"
   ]
  },
  {
   "cell_type": "code",
   "execution_count": 3,
   "id": "4a8bcc79",
   "metadata": {},
   "outputs": [
    {
     "data": {
      "text/plain": [
       "(1833614, 144)"
      ]
     },
     "execution_count": 3,
     "metadata": {},
     "output_type": "execute_result"
    }
   ],
   "source": [
    "df.shape"
   ]
  },
  {
   "cell_type": "code",
   "execution_count": 4,
   "id": "786a7c9d",
   "metadata": {},
   "outputs": [],
   "source": [
    "df.dropna(subset=['product_name'], inplace=True)"
   ]
  },
  {
   "cell_type": "code",
   "execution_count": 5,
   "id": "4c9615f2",
   "metadata": {},
   "outputs": [],
   "source": [
    "df_init = df"
   ]
  },
  {
   "cell_type": "code",
   "execution_count": 6,
   "id": "98464079",
   "metadata": {},
   "outputs": [
    {
     "name": "stdout",
     "output_type": "stream",
     "text": [
      "code  :  object\n",
      "product_name  :  object\n",
      "categories  :  object\n",
      "serving_quantity  :  float64\n",
      "additives_n  :  float64\n",
      "nutriscore  :  float64\n",
      "nutrigrade  :  int64\n",
      "nova_group  :  float64\n",
      "pnns1  :  object\n",
      "ecoscore_score  :  float64\n",
      "product_quantity  :  float64\n",
      "unique_scans_n  :  float64\n",
      "completeness  :  float64\n",
      "energy-kj_100g  :  float64\n",
      "energy-kcal_100g  :  float64\n",
      "energy_100g  :  float64\n",
      "energy-from-fat_100g  :  float64\n",
      "fat_100g  :  float64\n",
      "saturated-fat_100g  :  float64\n",
      "butyric-acid_100g  :  float64\n",
      "caproic-acid_100g  :  float64\n",
      "caprylic-acid_100g  :  float64\n",
      "capric-acid_100g  :  float64\n",
      "lauric-acid_100g  :  float64\n",
      "myristic-acid_100g  :  float64\n",
      "palmitic-acid_100g  :  float64\n",
      "stearic-acid_100g  :  float64\n",
      "arachidic-acid_100g  :  float64\n",
      "behenic-acid_100g  :  float64\n",
      "lignoceric-acid_100g  :  float64\n",
      "cerotic-acid_100g  :  float64\n",
      "montanic-acid_100g  :  float64\n",
      "melissic-acid_100g  :  float64\n",
      "unsaturated-fat_100g  :  float64\n",
      "monounsaturated-fat_100g  :  float64\n",
      "polyunsaturated-fat_100g  :  float64\n",
      "omega-3-fat_100g  :  float64\n",
      "alpha-linolenic-acid_100g  :  float64\n",
      "eicosapentaenoic-acid_100g  :  float64\n",
      "docosahexaenoic-acid_100g  :  float64\n",
      "omega-6-fat_100g  :  float64\n",
      "linoleic-acid_100g  :  float64\n",
      "arachidonic-acid_100g  :  float64\n",
      "gamma-linolenic-acid_100g  :  float64\n",
      "dihomo-gamma-linolenic-acid_100g  :  float64\n",
      "omega-9-fat_100g  :  float64\n",
      "oleic-acid_100g  :  float64\n",
      "elaidic-acid_100g  :  float64\n",
      "gondoic-acid_100g  :  float64\n",
      "mead-acid_100g  :  float64\n",
      "erucic-acid_100g  :  float64\n",
      "nervonic-acid_100g  :  float64\n",
      "trans-fat_100g  :  float64\n",
      "cholesterol_100g  :  float64\n",
      "carbohydrates_100g  :  float64\n",
      "sugars_100g  :  float64\n",
      "added-sugars_100g  :  float64\n",
      "sucrose_100g  :  float64\n",
      "glucose_100g  :  float64\n",
      "fructose_100g  :  float64\n",
      "lactose_100g  :  float64\n",
      "maltose_100g  :  float64\n",
      "maltodextrins_100g  :  float64\n",
      "starch_100g  :  float64\n",
      "polyols_100g  :  float64\n",
      "erythritol_100g  :  float64\n",
      "fiber_100g  :  float64\n",
      "soluble-fiber_100g  :  float64\n",
      "insoluble-fiber_100g  :  float64\n",
      "proteins_100g  :  float64\n",
      "casein_100g  :  float64\n",
      "serum-proteins_100g  :  float64\n",
      "nucleotides_100g  :  float64\n",
      "salt_100g  :  float64\n",
      "added-salt_100g  :  float64\n",
      "sodium_100g  :  float64\n",
      "alcohol_100g  :  float64\n",
      "vitamin-a_100g  :  float64\n",
      "beta-carotene_100g  :  float64\n",
      "vitamin-d_100g  :  float64\n",
      "vitamin-e_100g  :  float64\n",
      "vitamin-k_100g  :  float64\n",
      "vitamin-c_100g  :  float64\n",
      "vitamin-b1_100g  :  float64\n",
      "vitamin-b2_100g  :  float64\n",
      "vitamin-pp_100g  :  float64\n",
      "vitamin-b6_100g  :  float64\n",
      "vitamin-b9_100g  :  float64\n",
      "folates_100g  :  float64\n",
      "vitamin-b12_100g  :  float64\n",
      "biotin_100g  :  float64\n",
      "pantothenic-acid_100g  :  float64\n",
      "silica_100g  :  float64\n",
      "bicarbonate_100g  :  float64\n",
      "potassium_100g  :  float64\n",
      "chloride_100g  :  float64\n",
      "calcium_100g  :  float64\n",
      "phosphorus_100g  :  float64\n",
      "iron_100g  :  float64\n",
      "magnesium_100g  :  float64\n",
      "zinc_100g  :  float64\n",
      "copper_100g  :  float64\n",
      "manganese_100g  :  float64\n",
      "fluoride_100g  :  float64\n",
      "selenium_100g  :  float64\n",
      "chromium_100g  :  float64\n",
      "molybdenum_100g  :  float64\n",
      "iodine_100g  :  float64\n",
      "caffeine_100g  :  float64\n",
      "taurine_100g  :  float64\n",
      "ph_100g  :  float64\n",
      "fruits-vegetables-nuts_100g  :  float64\n",
      "fruits-vegetables-nuts-dried_100g  :  float64\n",
      "fruits-vegetables-nuts-estimate_100g  :  float64\n",
      "fruits-vegetables-nuts-estimate-from-ingredients_100g  :  float64\n",
      "collagen-meat-protein-ratio_100g  :  float64\n",
      "cocoa_100g  :  float64\n",
      "chlorophyl_100g  :  float64\n",
      "carbon-footprint_100g  :  float64\n",
      "carbon-footprint-from-meat-or-fish_100g  :  float64\n",
      "nutrition-score-fr_100g  :  float64\n",
      "nutrition-score-uk_100g  :  float64\n",
      "glycemic-index_100g  :  float64\n",
      "water-hardness_100g  :  float64\n",
      "choline_100g  :  float64\n",
      "phylloquinone_100g  :  float64\n",
      "beta-glucan_100g  :  float64\n",
      "inositol_100g  :  float64\n",
      "carnitine_100g  :  float64\n",
      "fruits-vegetables-rate_100g  :  int64\n",
      "quantity_num  :  float64\n",
      "quantity_unit_0  :  float64\n",
      "quantity_unit_1  :  float64\n",
      "quantity_unit_2  :  float64\n",
      "pnns1_0  :  float64\n",
      "pnns1_1  :  float64\n",
      "pnns1_2  :  float64\n",
      "pnns1_3  :  float64\n",
      "pnns1_4  :  float64\n",
      "pnns1_5  :  float64\n",
      "pnns1_6  :  float64\n",
      "pnns1_7  :  float64\n",
      "pnns1_8  :  float64\n",
      "pnns1_9  :  float64\n"
     ]
    }
   ],
   "source": [
    "for i in range(len(df.columns)) :\n",
    "    print(df.dtypes.index[i], ' : ', df.dtypes[i])"
   ]
  },
  {
   "cell_type": "code",
   "execution_count": 7,
   "id": "246a1385",
   "metadata": {},
   "outputs": [],
   "source": [
    "col_names=[]\n",
    "for x in df.columns:\n",
    "    col_names.append(x)"
   ]
  },
  {
   "cell_type": "code",
   "execution_count": 8,
   "id": "639a4861",
   "metadata": {},
   "outputs": [
    {
     "name": "stdout",
     "output_type": "stream",
     "text": [
      "code : 0000000000100\n",
      "product_name :  moutarde au moût de raisin \n",
      "categories : condiment , sauce , mustard , grocery\n",
      "serving_quantity : 30.0\n",
      "additives_n : 0.0\n",
      "nutriscore : 18.0\n",
      "nutrigrade : 3\n",
      "nova_group : 4.0\n",
      "pnns1 : fat and sauce\n",
      "ecoscore_score : 54.0\n",
      "product_quantity : 100.0\n",
      "unique_scans_n : 1.0\n",
      "completeness : 0.7625\n",
      "energy-kj_100g : 936.0\n",
      "energy-kcal_100g : 146.0\n",
      "energy_100g : 936.0\n",
      "energy-from-fat_100g : 126.0\n",
      "fat_100g : 8.2\n",
      "saturated-fat_100g : 2.2\n",
      "butyric-acid_100g : 0.8\n",
      "caproic-acid_100g : 0.09\n",
      "caprylic-acid_100g : 1.0\n",
      "capric-acid_100g : 0.9\n",
      "lauric-acid_100g : 7.0\n",
      "myristic-acid_100g : 2.0\n",
      "palmitic-acid_100g : 25.5\n",
      "stearic-acid_100g : 3.0\n",
      "arachidic-acid_100g : 4e-05\n",
      "behenic-acid_100g : 0.5\n",
      "lignoceric-acid_100g : 0.0\n",
      "cerotic-acid_100g : 8.0\n",
      "montanic-acid_100g : 3.15\n",
      "melissic-acid_100g : 27.0\n",
      "unsaturated-fat_100g : 5.8\n",
      "monounsaturated-fat_100g : 6.67\n",
      "polyunsaturated-fat_100g : 10.0\n",
      "omega-3-fat_100g : 2.32\n",
      "alpha-linolenic-acid_100g : 0.8\n",
      "eicosapentaenoic-acid_100g : 1.1\n",
      "docosahexaenoic-acid_100g : 0.425\n",
      "omega-6-fat_100g : 5.6\n",
      "linoleic-acid_100g : 36.9\n",
      "arachidonic-acid_100g : 0.0\n",
      "gamma-linolenic-acid_100g : 4.2\n",
      "dihomo-gamma-linolenic-acid_100g : 59.0\n",
      "omega-9-fat_100g : 49.5\n",
      "oleic-acid_100g : 1.650003\n",
      "elaidic-acid_100g : 7.3\n",
      "gondoic-acid_100g : 0.00375\n",
      "mead-acid_100g : 0.0\n",
      "erucic-acid_100g : 0.00625\n",
      "nervonic-acid_100g : 14.0\n",
      "trans-fat_100g : 0.0\n",
      "cholesterol_100g : 0.0\n",
      "carbohydrates_100g : 29.0\n",
      "sugars_100g : 22.0\n",
      "added-sugars_100g : 1.64\n",
      "sucrose_100g : 0.0\n",
      "glucose_100g : 0.4\n",
      "fructose_100g : 0.1\n",
      "lactose_100g : 0.0\n",
      "maltose_100g : 0.0\n",
      "maltodextrins_100g : 0.0667\n",
      "starch_100g : 2.3\n",
      "polyols_100g : 12.5\n",
      "erythritol_100g : 3.165\n",
      "fiber_100g : 0.0\n",
      "soluble-fiber_100g : 1.0\n",
      "insoluble-fiber_100g : 2.0\n",
      "proteins_100g : 5.1\n",
      "casein_100g : 2.9\n",
      "serum-proteins_100g : 1.35\n",
      "nucleotides_100g : 18.15\n",
      "salt_100g : 4.6\n",
      "added-salt_100g : 0.625\n",
      "sodium_100g : 1.84\n",
      "alcohol_100g : 0.0\n",
      "vitamin-a_100g : 5.25e-05\n",
      "beta-carotene_100g : 0.0039299999999999\n",
      "vitamin-d_100g : 0.0\n",
      "vitamin-e_100g : 0.0122\n",
      "vitamin-k_100g : 2.11e-05\n",
      "vitamin-c_100g : 0.0025\n",
      "vitamin-b1_100g : 0.0\n",
      "vitamin-b2_100g : 0.00034\n",
      "vitamin-pp_100g : 0.001333\n",
      "vitamin-b6_100g : 0.000239\n",
      "vitamin-b9_100g : 2.9e-05\n",
      "folates_100g : 0.0\n",
      "vitamin-b12_100g : 1.855e-06\n",
      "biotin_100g : 2.25e-05\n",
      "pantothenic-acid_100g : 0.001333\n",
      "silica_100g : 0.1175\n",
      "bicarbonate_100g : 0.0013\n",
      "potassium_100g : 0.167\n",
      "chloride_100g : 0.1714999999999999\n",
      "calcium_100g : 0.0\n",
      "phosphorus_100g : 0.071\n",
      "iron_100g : 0.0\n",
      "magnesium_100g : 0.027\n",
      "zinc_100g : 0.0009\n",
      "copper_100g : 0.000312\n",
      "manganese_100g : 0.0\n",
      "fluoride_100g : 4.4e-05\n",
      "selenium_100g : 5e-06\n",
      "chromium_100g : 0.0075\n",
      "molybdenum_100g : 2.7e-05\n",
      "iodine_100g : 8e-05\n",
      "caffeine_100g : 0.029\n",
      "taurine_100g : 0.0\n",
      "ph_100g : 5.0\n",
      "fruits-vegetables-nuts_100g : 36.07\n",
      "fruits-vegetables-nuts-dried_100g : 0.0\n",
      "fruits-vegetables-nuts-estimate_100g : 70.0\n",
      "fruits-vegetables-nuts-estimate-from-ingredients_100g : 0.0\n",
      "collagen-meat-protein-ratio_100g : 15.0\n",
      "cocoa_100g : 34.5\n",
      "chlorophyl_100g : 1.0875\n",
      "carbon-footprint_100g : 95.95\n",
      "carbon-footprint-from-meat-or-fish_100g : 348.70000000000005\n",
      "nutrition-score-fr_100g : 18.0\n",
      "nutrition-score-uk_100g : 18.0\n",
      "glycemic-index_100g : 59.35\n",
      "water-hardness_100g : 1.475\n",
      "choline_100g : 0.0735\n",
      "phylloquinone_100g : 1.655e-05\n",
      "beta-glucan_100g : 1.2\n",
      "inositol_100g : 0.028\n",
      "carnitine_100g : 0.011\n",
      "fruits-vegetables-rate_100g : 25\n",
      "quantity_num : 100.0\n",
      "quantity_unit_0 : 0.0\n",
      "quantity_unit_1 : 0.0\n",
      "quantity_unit_2 : -1.0\n",
      "pnns1_0 : 0.0\n",
      "pnns1_1 : 0.0\n",
      "pnns1_2 : 0.0\n",
      "pnns1_3 : 0.0\n",
      "pnns1_4 : 0.0\n",
      "pnns1_5 : 0.0\n",
      "pnns1_6 : -1.0\n",
      "pnns1_7 : 0.0\n",
      "pnns1_8 : 0.0\n",
      "pnns1_9 : 0.0\n"
     ]
    }
   ],
   "source": [
    "index=0\n",
    "for i in (df.loc[6]):\n",
    "    print(str(col_names[index])+\" : \"+str(i))\n",
    "    index+=1"
   ]
  },
  {
   "cell_type": "code",
   "execution_count": 9,
   "id": "2282b349",
   "metadata": {},
   "outputs": [],
   "source": [
    "df['pnns1'] = pd.factorize(df['pnns1'])[0]"
   ]
  },
  {
   "cell_type": "code",
   "execution_count": 10,
   "id": "7115c457",
   "metadata": {},
   "outputs": [],
   "source": [
    "#df.drop(columns = ['quantity_num'], inplace=True)"
   ]
  },
  {
   "cell_type": "markdown",
   "id": "c0b5b864",
   "metadata": {},
   "source": [
    "### Normalisation"
   ]
  },
  {
   "cell_type": "code",
   "execution_count": 11,
   "id": "ed84cfb8",
   "metadata": {},
   "outputs": [],
   "source": [
    "# Sélectionner les colonnes numériques\n",
    "numeric_cols = list(df.select_dtypes(include=[\"float64\",\"int64\"]).columns)"
   ]
  },
  {
   "cell_type": "code",
   "execution_count": 12,
   "id": "acd47187",
   "metadata": {},
   "outputs": [],
   "source": [
    "# Créer un scaler MinMax\n",
    "scaler = StandardScaler()"
   ]
  },
  {
   "cell_type": "code",
   "execution_count": 13,
   "id": "37934b83",
   "metadata": {},
   "outputs": [],
   "source": [
    "# Appliquer la normalisation aux colonnes numériques\n",
    "df[numeric_cols] = scaler.fit_transform(df[numeric_cols])"
   ]
  },
  {
   "cell_type": "code",
   "execution_count": 14,
   "id": "5545a4ed",
   "metadata": {},
   "outputs": [],
   "source": [
    "# Sélectionner les colonnes numériques\n",
    "cols_to_convert_int = list(df.select_dtypes(include=[\"int64\"]).columns)\n",
    "cols_to_convert_float = list(df.select_dtypes(include=[\"float64\"]).columns)\n",
    "\n",
    "# Changing format of object and float64 columns\n",
    "df[cols_to_convert_int] = df[cols_to_convert_int].astype('int32')\n",
    "df[cols_to_convert_float] = df[cols_to_convert_float].astype('float32')"
   ]
  },
  {
   "cell_type": "markdown",
   "id": "c7bad464",
   "metadata": {},
   "source": [
    "### X et y"
   ]
  },
  {
   "cell_type": "code",
   "execution_count": 15,
   "id": "7ef3b6ff",
   "metadata": {},
   "outputs": [],
   "source": [
    "# Sélectionner les colonnes numériques\n",
    "numeric_cols.remove('pnns1')\n",
    "numeric_cols.remove('nutriscore')\n",
    "numeric_cols.remove('unique_scans_n')\n",
    "numeric_cols.remove('completeness')"
   ]
  },
  {
   "cell_type": "code",
   "execution_count": 1,
   "id": "b2fb4a82",
   "metadata": {},
   "outputs": [
    {
     "ename": "NameError",
     "evalue": "name 'df' is not defined",
     "output_type": "error",
     "traceback": [
      "\u001b[1;31m---------------------------------------------------------------------------\u001b[0m",
      "\u001b[1;31mNameError\u001b[0m                                 Traceback (most recent call last)",
      "Cell \u001b[1;32mIn[1], line 1\u001b[0m\n\u001b[1;32m----> 1\u001b[0m X \u001b[38;5;241m=\u001b[39m \u001b[43mdf\u001b[49m[numeric_cols]\n",
      "\u001b[1;31mNameError\u001b[0m: name 'df' is not defined"
     ]
    }
   ],
   "source": [
    "X = df[numeric_cols]"
   ]
  },
  {
   "cell_type": "code",
   "execution_count": 17,
   "id": "cf9ec7e1",
   "metadata": {},
   "outputs": [],
   "source": [
    "y = df['product_name']"
   ]
  },
  {
   "cell_type": "markdown",
   "id": "3ed03df1",
   "metadata": {},
   "source": [
    "### Petite PCA"
   ]
  },
  {
   "cell_type": "code",
   "execution_count": 18,
   "id": "64971899",
   "metadata": {},
   "outputs": [],
   "source": [
    "# Réduire la dimensionnalité avec PCA\n",
    "pca = PCA(n_components=20)\n",
    "pca_df = pd.DataFrame(pca.fit_transform(df[numeric_cols]))"
   ]
  },
  {
   "cell_type": "code",
   "execution_count": 19,
   "id": "f72dabba",
   "metadata": {},
   "outputs": [
    {
     "name": "stderr",
     "output_type": "stream",
     "text": [
      "C:\\Users\\joell\\VSCode\\OpenFoodFact_Cluster\\env\\lib\\site-packages\\sklearn\\cluster\\_kmeans.py:870: FutureWarning: The default value of `n_init` will change from 10 to 'auto' in 1.4. Set the value of `n_init` explicitly to suppress the warning\n",
      "  warnings.warn(\n",
      "C:\\Users\\joell\\VSCode\\OpenFoodFact_Cluster\\env\\lib\\site-packages\\sklearn\\cluster\\_kmeans.py:870: FutureWarning: The default value of `n_init` will change from 10 to 'auto' in 1.4. Set the value of `n_init` explicitly to suppress the warning\n",
      "  warnings.warn(\n",
      "C:\\Users\\joell\\VSCode\\OpenFoodFact_Cluster\\env\\lib\\site-packages\\sklearn\\cluster\\_kmeans.py:870: FutureWarning: The default value of `n_init` will change from 10 to 'auto' in 1.4. Set the value of `n_init` explicitly to suppress the warning\n",
      "  warnings.warn(\n",
      "C:\\Users\\joell\\VSCode\\OpenFoodFact_Cluster\\env\\lib\\site-packages\\sklearn\\cluster\\_kmeans.py:870: FutureWarning: The default value of `n_init` will change from 10 to 'auto' in 1.4. Set the value of `n_init` explicitly to suppress the warning\n",
      "  warnings.warn(\n",
      "C:\\Users\\joell\\VSCode\\OpenFoodFact_Cluster\\env\\lib\\site-packages\\sklearn\\cluster\\_kmeans.py:870: FutureWarning: The default value of `n_init` will change from 10 to 'auto' in 1.4. Set the value of `n_init` explicitly to suppress the warning\n",
      "  warnings.warn(\n",
      "C:\\Users\\joell\\VSCode\\OpenFoodFact_Cluster\\env\\lib\\site-packages\\sklearn\\cluster\\_kmeans.py:870: FutureWarning: The default value of `n_init` will change from 10 to 'auto' in 1.4. Set the value of `n_init` explicitly to suppress the warning\n",
      "  warnings.warn(\n",
      "C:\\Users\\joell\\VSCode\\OpenFoodFact_Cluster\\env\\lib\\site-packages\\sklearn\\cluster\\_kmeans.py:870: FutureWarning: The default value of `n_init` will change from 10 to 'auto' in 1.4. Set the value of `n_init` explicitly to suppress the warning\n",
      "  warnings.warn(\n",
      "C:\\Users\\joell\\VSCode\\OpenFoodFact_Cluster\\env\\lib\\site-packages\\sklearn\\cluster\\_kmeans.py:870: FutureWarning: The default value of `n_init` will change from 10 to 'auto' in 1.4. Set the value of `n_init` explicitly to suppress the warning\n",
      "  warnings.warn(\n",
      "C:\\Users\\joell\\VSCode\\OpenFoodFact_Cluster\\env\\lib\\site-packages\\sklearn\\cluster\\_kmeans.py:870: FutureWarning: The default value of `n_init` will change from 10 to 'auto' in 1.4. Set the value of `n_init` explicitly to suppress the warning\n",
      "  warnings.warn(\n",
      "C:\\Users\\joell\\VSCode\\OpenFoodFact_Cluster\\env\\lib\\site-packages\\sklearn\\cluster\\_kmeans.py:870: FutureWarning: The default value of `n_init` will change from 10 to 'auto' in 1.4. Set the value of `n_init` explicitly to suppress the warning\n",
      "  warnings.warn(\n"
     ]
    }
   ],
   "source": [
    "from sklearn.cluster import KMeans\n",
    "\n",
    "k = 10\n",
    "k_values = range(1, k+1)\n",
    "inertias = []\n",
    "for k in k_values:\n",
    "    kmeans = KMeans(n_clusters=k)\n",
    "    kmeans.fit(pca_df)\n",
    "    inertias.append(kmeans.inertia_)"
   ]
  },
  {
   "cell_type": "code",
   "execution_count": 20,
   "id": "a1ad3969",
   "metadata": {},
   "outputs": [
    {
     "data": {
      "image/png": "[encoded data removed]",
      "text/plain": [
       "<Figure size 640x480 with 1 Axes>"
      ]
     },
     "metadata": {},
     "output_type": "display_data"
    }
   ],
   "source": [
    "import matplotlib.pyplot as plt\n",
    "\n",
    "plt.plot(k_values, inertias, 'bx-')\n",
    "plt.xlabel('Nombre de clusters')\n",
    "plt.ylabel('Inertie')\n",
    "plt.title(\"Méthode du coude\")\n",
    "plt.show()"
   ]
  },
  {
   "cell_type": "code",
   "execution_count": 21,
   "id": "36a73163",
   "metadata": {},
   "outputs": [],
   "source": [
    "# Sélectionner le nombre optimal de clusters\n",
    "k = 11"
   ]
  },
  {
   "cell_type": "markdown",
   "id": "daef4475",
   "metadata": {},
   "source": [
    "## DBSCAN"
   ]
  },
  {
   "cell_type": "code",
   "execution_count": null,
   "id": "fbb99c91",
   "metadata": {},
   "outputs": [],
   "source": [
    "%%time\n",
    "# Appliquer DBSCAN\n",
    "dbscan = DBSCAN(eps=0.5, min_samples=5)\n",
    "dbscan.fit(pca_df)"
   ]
  },
  {
   "cell_type": "code",
   "execution_count": null,
   "id": "586930a6",
   "metadata": {},
   "outputs": [],
   "source": [
    "df['cluster_D_pca'] = kmeans.labels_"
   ]
  },
  {
   "cell_type": "code",
   "execution_count": null,
   "id": "251ce6ff",
   "metadata": {
    "scrolled": false
   },
   "outputs": [],
   "source": [
    "clusterPCA_DB0 = df['product_name'].where(df['cluster_D_pca'] == 0)\n",
    "clusterPCA_DB1 = df['product_name'].where(df['cluster_D_pca'] == 1)\n",
    "clusterPCA_DB2 = df['product_name'].where(df['cluster_D_pca'] == 2)\n",
    "clusterPCA_DB3 = df['product_name'].where(df['cluster_D_pca'] == 3)\n",
    "clusterPCA_DB4 = df['product_name'].where(df['cluster_D_pca'] == 4)\n",
    "clusterPCA_DB5 = df['product_name'].where(df['cluster_D_pca'] == 5)\n",
    "\n",
    "s_arr = []\n",
    "\n",
    "def sio_factory():\n",
    "    return StringIO()\n",
    "\n",
    "for cluster in [clusterPCA_DB0, clusterPCA_DB1, clusterPCA_DB2,clusterPCA_DB3, clusterPCA_DB4, clusterPCA_DB5]:\n",
    "    si = sio_factory()\n",
    "    cluster.apply(lambda x: si.write(str(x)))\n",
    "    s_arr.append(si.getvalue())\n",
    "    si.close()\n",
    "    \n",
    "cleaned = []\n",
    "for s in s_arr:\n",
    "    tokenized = word_tokenize(s)\n",
    "    filtered_tokenized = list(filter(lambda x: x.lower() not in stop_words, tokenized))\n",
    "    cleaned.append(filtered_tokenized)\n",
    "    \n",
    "final = []\n",
    "for i in cleaned:\n",
    "    final.append(' '.join(i))\n",
    "\n",
    "for i, s in enumerate(final):\n",
    "    text = s\n",
    "    wordcloud = WordCloud(background_color=\"white\",max_words=30,max_font_size=40, relative_scaling=.5).generate(text)\n",
    "    plt.title('Cluster ' + str(i))\n",
    "    plt.imshow(wordcloud)\n",
    "    plt.show()"
   ]
  },
  {
   "cell_type": "code",
   "execution_count": null,
   "id": "7a876b06",
   "metadata": {},
   "outputs": [],
   "source": [
    "# Enregistrer le modèle sur le disque\n",
    "joblib.dump(dbscan, 'dbscan_pca.pkl')\n",
    "# Charger le modèle sauvegardé depuis le disque\n",
    "dbscan = joblib.load('dbscan_pca.pkl')"
   ]
  }
 ],
 "metadata": {
  "kernelspec": {
   "display_name": "Python 3 (ipykernel)",
   "language": "python",
   "name": "python3"
  },
  "language_info": {
   "codemirror_mode": {
    "name": "ipython",
    "version": 3
   },
   "file_extension": ".py",
   "mimetype": "text/x-python",
   "name": "python",
   "nbconvert_exporter": "python",
   "pygments_lexer": "ipython3",
   "version": "3.10.2"
  }
 },
 "nbformat": 4,
 "nbformat_minor": 5
}
